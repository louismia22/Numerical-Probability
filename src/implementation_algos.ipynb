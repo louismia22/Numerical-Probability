{
 "cells": [
  {
   "cell_type": "code",
   "execution_count": 4,
   "metadata": {},
   "outputs": [],
   "source": [
    "import numpy as np \n",
    "from scipy.stats import norm\n",
    "from scipy.linalg import cholesky"
   ]
  },
  {
   "cell_type": "markdown",
   "metadata": {},
   "source": [
    "$$\n",
    "\\mathbb{P}\\left(Y \\in \\cdot \\mid Y \\in \\mathrm{S}_{\\mu^{(t)}, \\mathbf{i}}\\right) \\text { et } \\mathbb{P}\\left(Y \\in \\cdot \\mid\\left[\\mu^{(t)}\\right]^T Y=s\\right)\n",
    "$$\n",
    "Pour le premier cas : on définit la strat, on tire un point au hasard dans la strat, et ensuite on échantillonne conditionnellement à ce point !\n",
    "On le réécrit : \n",
    "$$\n",
    "X=v^{\\top} \\xi \\sim N\\left(0, v^{\\top} \\Sigma v\\right)=N(0,1)\n",
    "$$\n",
    "On a la distrbution conditionnelle : \n",
    "\n",
    "$$\n",
    "(\\xi \\mid X=x) \\sim N\\left(\\frac{\\Sigma v}{v^{\\top} \\Sigma v} x, \\Sigma-\\frac{\\Sigma v v^{\\top} \\Sigma}{v^{\\top} \\Sigma v}\\right)=N\\left(\\Sigma v x, \\Sigma-\\Sigma v v^{\\top} \\Sigma\\right)\n",
    "$$\n",
    "On utilise le tips ci-dessous pour pouvoir simuler (décomposition du terme en variance)\n",
    "\n",
    "$$\n",
    "\\begin{aligned}\n",
    "& \\left(A-\\Sigma v v^{\\top} A\\right)\\left(A-\\Sigma v v^{\\top} A\\right)^{\\top} \\\\\n",
    "& \\quad=A A^{\\top}-A A^{\\top} v v^{\\top} \\Sigma-\\Sigma v v^{\\top} A A^{\\top}+\\Sigma v v^{\\top} \\Sigma v v^{\\top} \\Sigma \\\\\n",
    "& \\quad=\\Sigma-\\Sigma v v^{\\top} \\Sigma\n",
    "\\end{aligned}\n",
    "$$\n",
    "\n",
    "Suivant que l'on veuille sample avec ou non une condition sur la valeur de X, on le spécifie dans la fonction ci-dessous.\n",
    "\n",
    "$$\n",
    "\\begin{aligned}\n",
    "& \\text { for } i=1, \\ldots, K \\\\\n",
    "& \\quad \\text { generate } U \\sim \\operatorname{Unif}[0,1] \\\\\n",
    "& \\quad V \\leftarrow(i-1+U) / K \\\\\n",
    "& \\quad X \\leftarrow \\Phi^{-1}(V) \\\\\n",
    "& \\quad \\text { generate } Z \\sim N(0, I) \\text { in } \\Re^d \\\\\n",
    "& \\quad \\xi \\leftarrow \\Sigma v X+\\left(A-\\Sigma v v^{\\top} A\\right) Z\n",
    "\\end{aligned}\n",
    "$$"
   ]
  },
  {
   "cell_type": "code",
   "execution_count": 66,
   "metadata": {},
   "outputs": [],
   "source": [
    "def stratified_sampling_linear_projection(mu, Sigma, v, K, x=None):\n",
    "    \"\"\"\n",
    "    Generates K samples from N(0, Sigma) stratified along the direction determined by v.\n",
    "    \n",
    "    Args:\n",
    "    - mu (array): The mean vector of the distribution.\n",
    "    - Sigma (2D array): The covariance matrix of the distribution.\n",
    "    - v (array): The vector along which stratification is done.\n",
    "    - K (int): The number of stratified samples to generate.\n",
    "    - x (optionnal) :  si on donne une valeur pour x alors c'est qu'on conditionne à une valeur particulière de x. Sinon on sample sur tout la strat Si. Taille K\n",
    "    \n",
    "    Returns:\n",
    "    - samples (2D array): The generated stratified samples. (K, de N(0,sigma), stratifié sur la direction donnée par v)\n",
    "    \"\"\"\n",
    "    d = len(mu)  # Dimension of the normal distribution\n",
    "    # Normalize v so that v^T Sigma v = 1\n",
    "    v = v / np.sqrt(v.T @ Sigma @ v)\n",
    "    \n",
    "    # Generate K stratified samples for the standard normal distribution along v\n",
    "    U = np.random.uniform(0, 1, K)     # Uniformly distributed samples in (0,1)\n",
    "    V = (np.arange(K) + U) / K         # Stratified samples in (0,1)\n",
    "    X = norm.ppf(V)                    # Inverse CDF (quantile function) to get stratified samples for N(0, 1)\n",
    "   \n",
    "    # Compute the matrix A for the conditional distribution of xi given x\n",
    "    A = cholesky(Sigma, lower=True)    # Cholesky factorization\n",
    "    A_minus_v_Sigma_v_T_A = A - np.outer(Sigma @ v, v.T @ A)\n",
    "    \n",
    "    # Generate K samples from the conditional distribution of xi given X\n",
    "    Z = np.random.randn(K, d)  # Z ~ N(0, I) in d dimensions \n",
    "    if x is not None:\n",
    "\n",
    "        xi_samples = Sigma @ v * x[:, None] + (A_minus_v_Sigma_v_T_A @ Z.T).T  # Conditional samples \n",
    "        #xi_samples = Sigma @ v @ x + (A_minus_v_Sigma_v_T_A @ Z.T).T\n",
    "\n",
    "    else:\n",
    "        xi_samples = Sigma @ v * X[:, None] + (A_minus_v_Sigma_v_T_A @ Z.T).T \n",
    "        #xi_samples = Sigma @ v @ X + (A_minus_v_Sigma_v_T_A @ Z.T).T \n",
    "        \n",
    "    \n",
    "    return xi_samples + mu             # Add the mean to each sample"
   ]
  },
  {
   "cell_type": "code",
   "execution_count": 24,
   "metadata": {},
   "outputs": [
    {
     "data": {
      "text/plain": [
       "array([[ 0.76938248, -0.31384703,  1.98850445],\n",
       "       [ 1.56225731,  0.43526263,  0.9347895 ],\n",
       "       [ 0.40752258,  0.89483933,  3.36696466],\n",
       "       [ 0.95136112,  0.89713892,  3.38517427],\n",
       "       [ 2.41730331,  0.27148841,  3.08758514],\n",
       "       [ 0.84171667,  1.65771535,  3.95694792],\n",
       "       [ 0.20449918,  1.75585458,  4.81837828],\n",
       "       [ 2.83636706,  1.76503491,  2.68406842],\n",
       "       [ 2.81533182,  3.6781583 ,  2.2934539 ],\n",
       "       [ 2.62413833,  4.38044323,  3.23868534]])"
      ]
     },
     "execution_count": 24,
     "metadata": {},
     "output_type": "execute_result"
    }
   ],
   "source": [
    "# Example usage:\n",
    "mu = np.array([1, 2, 3])               # Mean vector - on est en 3 dimensions \n",
    "Sigma = np.array([[1, 0.5, 0.1],       # Covariance matrix\n",
    "                  [0.5, 2, 0.3],\n",
    "                  [0.1, 0.3, 1]])\n",
    "v = np.array([1, 1, 1])                # Vector for stratification\n",
    "K = 10                            # Number of samples to generate - 10 strates. Donc pour chaque strat les 3 coordonnées. \n",
    "\n",
    "# Generate stratified samples\n",
    "samples = stratified_sampling_linear_projection(mu, Sigma, v, K)\n",
    "#samples  # Display first 5 samples for brevity\n",
    "samples"
   ]
  },
  {
   "cell_type": "markdown",
   "metadata": {},
   "source": [
    "# Calcul de Si, la strat Si"
   ]
  },
  {
   "cell_type": "markdown",
   "metadata": {},
   "source": [
    "$$\n",
    "\\mathrm{S}_{\\mathbf{i}} \\stackrel{\\text { def }}{=} \\prod_{k=1}^m\\left(G_k^{-1}\\left(\\frac{i_k-1}{I}\\right), G_k^{-1}\\left(\\frac{i_k}{I}\\right)\\right]\n",
    "$$\n",
    "On calcul Si, et on va tirer dedans. "
   ]
  },
  {
   "cell_type": "code",
   "execution_count": 64,
   "metadata": {},
   "outputs": [],
   "source": [
    "def sample_from_hypercube(i_vector: list[int], \n",
    "                          I: int) -> np.array :\n",
    "    \"\"\"\n",
    "    Sample a point uniformly from the hypercube defined by the indices in i_vector\n",
    "    with respect to the standard normal distribution.\n",
    "    \n",
    "    Args:\n",
    "    i_vector (list of int): Indices defining the hypercube.\n",
    "    I (int): The total number of divisions along each dimension.\n",
    "    \n",
    "    Returns:\n",
    "    A list of float: A point sampled uniformly from the hypercube.\n",
    "    \"\"\"\n",
    "    # Calculate the bounds of the interval for the current dimension\n",
    "    lower_bound = norm.ppf((np.array(i_vector) - 1) / I)\n",
    "    upper_bound = norm.ppf(np.array(i_vector) / I)\n",
    "\n",
    "    # Sample uniformly from this interval\n",
    "    sample = np.random.uniform(lower_bound, upper_bound)\n",
    "\n",
    "    return sample\n"
   ]
  },
  {
   "cell_type": "markdown",
   "metadata": {},
   "source": [
    "On veut sampler un point suivant cette distrbution : \n",
    "$$\\mathbb{P}\\left(Y \\in \\cdot \\mid Y \\in \\mathrm{S}_{\\mu^{(t)}, \\mathbf{i}}\\right)$$\n",
    "la méthode, c'est d'abord sample un point dans le S_i puis ensuite on tire suivant $\\mathbb{P}\\left(Y \\in \\cdot \\mid\\left[\\mu^{(t)}\\right]^T Y=s\\right)$"
   ]
  },
  {
   "cell_type": "code",
   "execution_count": 65,
   "metadata": {},
   "outputs": [
    {
     "data": {
      "text/plain": [
       "array([0.07879191, 0.33210533, 0.377812  ])"
      ]
     },
     "execution_count": 65,
     "metadata": {},
     "output_type": "execute_result"
    }
   ],
   "source": [
    "# Example usage:\n",
    "i_vector = [6, 7, 8]  # Example indices for a 3-dimensional hypercube\n",
    "I = 11  # The total number of divisions along each dimension\n",
    "\n",
    "# Sample a point from the hypercube\n",
    "sampled_point = sample_from_hypercube(i_vector, I)\n",
    "sampled_point"
   ]
  }
 ],
 "metadata": {
  "kernelspec": {
   "display_name": "skfolio",
   "language": "python",
   "name": "python3"
  },
  "language_info": {
   "codemirror_mode": {
    "name": "ipython",
    "version": 3
   },
   "file_extension": ".py",
   "mimetype": "text/x-python",
   "name": "python",
   "nbconvert_exporter": "python",
   "pygments_lexer": "ipython3",
   "version": "3.10.0"
  }
 },
 "nbformat": 4,
 "nbformat_minor": 2
}
