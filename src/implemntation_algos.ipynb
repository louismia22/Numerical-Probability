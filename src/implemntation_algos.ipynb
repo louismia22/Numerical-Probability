{
 "cells": [
  {
   "cell_type": "code",
   "execution_count": 1,
   "metadata": {},
   "outputs": [],
   "source": [
    "import numpy as np \n",
    "from scipy.stats import norm\n",
    "from scipy.linalg import cholesky\n",
    "\n"
   ]
  },
  {
   "cell_type": "markdown",
   "metadata": {},
   "source": [
    "$$\n",
    "\\mathbb{P}\\left(Y \\in \\cdot \\mid Y \\in \\mathrm{S}_{\\mu^{(t)}, \\mathbf{i}}\\right) \\text { et } \\mathbb{P}\\left(Y \\in \\cdot \\mid\\left[\\mu^{(t)}\\right]^T Y=s\\right)\n",
    "$$\n",
    "Pour le premier cas : on définit la strat, on tire un point au hasard dans la strat, et ensuite on échantillonne conditionnellement à ce point !\n",
    "On le réécrit : \n",
    "$$\n",
    "X=v^{\\top} \\xi \\sim N\\left(0, v^{\\top} \\Sigma v\\right)=N(0,1)\n",
    "$$\n",
    "On a la distrbution conditionnelle : \n",
    "\n",
    "$$\n",
    "(\\xi \\mid X=x) \\sim N\\left(\\frac{\\Sigma v}{v^{\\top} \\Sigma v} x, \\Sigma-\\frac{\\Sigma v v^{\\top} \\Sigma}{v^{\\top} \\Sigma v}\\right)=N\\left(\\Sigma v x, \\Sigma-\\Sigma v v^{\\top} \\Sigma\\right)\n",
    "$$\n",
    "On utilise le tips ci-dessous pour pouvoir simuler (décomposition du terme en variance)\n",
    "\n",
    "$$\n",
    "\\begin{aligned}\n",
    "& \\left(A-\\Sigma v v^{\\top} A\\right)\\left(A-\\Sigma v v^{\\top} A\\right)^{\\top} \\\\\n",
    "& \\quad=A A^{\\top}-A A^{\\top} v v^{\\top} \\Sigma-\\Sigma v v^{\\top} A A^{\\top}+\\Sigma v v^{\\top} \\Sigma v v^{\\top} \\Sigma \\\\\n",
    "& \\quad=\\Sigma-\\Sigma v v^{\\top} \\Sigma\n",
    "\\end{aligned}\n",
    "$$\n",
    "\n",
    "Suivant que l'on veuille sample avec ou non une condition sur la valeur de X, on le spécifie dans la fonction ci-dessous.\n",
    "\n",
    "$$\n",
    "\\begin{aligned}\n",
    "& \\text { for } i=1, \\ldots, K \\\\\n",
    "& \\quad \\text { generate } U \\sim \\operatorname{Unif}[0,1] \\\\\n",
    "& \\quad V \\leftarrow(i-1+U) / K \\\\\n",
    "& \\quad X \\leftarrow \\Phi^{-1}(V) \\\\\n",
    "& \\quad \\text { generate } Z \\sim N(0, I) \\text { in } \\Re^d \\\\\n",
    "& \\quad \\xi \\leftarrow \\Sigma v X+\\left(A-\\Sigma v v^{\\top} A\\right) Z\n",
    "\\end{aligned}\n",
    "$$"
   ]
  },
  {
   "cell_type": "code",
   "execution_count": 83,
   "metadata": {},
   "outputs": [],
   "source": [
    "def stratified_sampling_linear_projection(mu, Sigma, v, K,x=None):\n",
    "    \"\"\"\n",
    "    Generates K samples from N(0, Sigma) stratified along the direction determined by v.\n",
    "    \n",
    "    Args:\n",
    "    - mu (array): The mean vector of the distribution.\n",
    "    - Sigma (2D array): The covariance matrix of the distribution.\n",
    "    - v (array): The vector along which stratification is done.\n",
    "    - K (int): The number of stratified samples to generate.\n",
    "    - x (optionnal) :  si on donne une valeur pour x alors c'est qu'on conditionne à une valeur particulière de x. Sinon on sample sur tout la strat Si. Taille K\n",
    "    \n",
    "    Returns:\n",
    "    - samples (2D array): The generated stratified samples. (K, de N(0,sigma), stratifié sur la direction donnée par v)\n",
    "    \"\"\"\n",
    "    d = len(mu)  # Dimension of the normal distribution\n",
    "    # Normalize v so that v^T Sigma v = 1\n",
    "    v = v / np.sqrt(v.T @ Sigma @ v)\n",
    "    \n",
    "    # Generate K stratified samples for the standard normal distribution along v\n",
    "    U = np.random.uniform(0, 1, K)     # Uniformly distributed samples in (0,1)\n",
    "    V = (np.arange(K) + U) / K         # Stratified samples in (0,1)\n",
    "    X = norm.ppf(V)                    # Inverse CDF (quantile function) to get stratified samples for N(0, 1)\n",
    "   \n",
    "    # Compute the matrix A for the conditional distribution of xi given x\n",
    "    A = cholesky(Sigma, lower=True)    # Cholesky factorization\n",
    "    A_minus_v_Sigma_v_T_A = A - np.outer(Sigma @ v, v.T @ A)\n",
    "    \n",
    "    # Generate K samples from the conditional distribution of xi given X\n",
    "    Z = np.random.randn(K, d)  # Z ~ N(0, I) in d dimensions \n",
    "    if x is not None:\n",
    "\n",
    "        xi_samples = Sigma @ v * x[:, None] + (A_minus_v_Sigma_v_T_A @ Z.T).T  # Conditional samples \n",
    "        #xi_samples = Sigma @ v @ x + (A_minus_v_Sigma_v_T_A @ Z.T).T\n",
    "\n",
    "    else:\n",
    "        xi_samples = Sigma @ v * X[:, None] + (A_minus_v_Sigma_v_T_A @ Z.T).T \n",
    "        #xi_samples = Sigma @ v @ X + (A_minus_v_Sigma_v_T_A @ Z.T).T \n",
    "        \n",
    "    \n",
    "    return xi_samples + mu             # Add the mean to each sample\n"
   ]
  },
  {
   "cell_type": "code",
   "execution_count": 85,
   "metadata": {},
   "outputs": [
    {
     "data": {
      "text/plain": [
       "array([[0.16525408, 0.44017691, 2.2878893 ],\n",
       "       [0.43544773, 1.53220359, 1.73672207],\n",
       "       [0.29799612, 0.71376439, 3.66176204],\n",
       "       [0.54935558, 0.97023572, 3.33218489],\n",
       "       [0.76467566, 1.59433268, 3.32930975],\n",
       "       [0.91856624, 1.73743724, 3.95190849],\n",
       "       [2.60597675, 2.08151931, 2.36125993],\n",
       "       [1.31300814, 2.99527511, 3.20260899],\n",
       "       [1.93713944, 2.44017595, 3.65042246],\n",
       "       [2.38669539, 3.28633642, 3.47324264]])"
      ]
     },
     "execution_count": 85,
     "metadata": {},
     "output_type": "execute_result"
    }
   ],
   "source": [
    "# Example usage:\n",
    "mu = np.array([1, 2, 3])               # Mean vector - on est en 3 dimensions \n",
    "Sigma = np.array([[1, 0.5, 0.1],       # Covariance matrix\n",
    "                  [0.5, 2, 0.3],\n",
    "                  [0.1, 0.3, 1]])\n",
    "v = np.array([1, 1, 1])                # Vector for stratification\n",
    "K = 10                            # Number of samples to generate - 10 strates. Donc pour chaque strat les 3 coordonnées. \n",
    "\n",
    "# Generate stratified samples\n",
    "samples = stratified_sampling_linear_projection(mu, Sigma, v, K)\n",
    "#samples  # Display first 5 samples for brevity\n",
    "samples"
   ]
  },
  {
   "cell_type": "markdown",
   "metadata": {},
   "source": [
    "# Calcul de Si, la strat Si"
   ]
  },
  {
   "cell_type": "markdown",
   "metadata": {},
   "source": [
    "$$\n",
    "\\mathrm{S}_{\\mathbf{i}} \\stackrel{\\text { def }}{=} \\prod_{k=1}^m\\left(G_k^{-1}\\left(\\frac{i_k-1}{I}\\right), G_k^{-1}\\left(\\frac{i_k}{I}\\right)\\right]\n",
    "$$\n",
    "On calcul Si, et on va tirer dedans. "
   ]
  },
  {
   "cell_type": "code",
   "execution_count": 37,
   "metadata": {},
   "outputs": [],
   "source": [
    "def sample_from_hypercube(i_vector, I):\n",
    "    \"\"\"\n",
    "    Sample a point uniformly from the hypercube defined by the indices in i_vector\n",
    "    with respect to the standard normal distribution.\n",
    "    \n",
    "    Args:\n",
    "    i_vector (list of int): Indices defining the hypercube.\n",
    "    I (int): The total number of divisions along each dimension.\n",
    "    \n",
    "    Returns:\n",
    "    A list of float: A point sampled uniformly from the hypercube.\n",
    "    \"\"\"\n",
    "    point = []\n",
    "    for i_k in i_vector:\n",
    "        # Calculate the bounds of the interval for the current dimension\n",
    "        lower_bound = norm.ppf((i_k - 1) / I)\n",
    "        upper_bound = norm.ppf(i_k / I)\n",
    "        # Sample uniformly from this interval\n",
    "        sample = np.random.uniform(lower_bound, upper_bound)\n",
    "        point.append(sample)\n",
    "    return np.array(point)\n"
   ]
  },
  {
   "cell_type": "markdown",
   "metadata": {},
   "source": [
    "On veut sampler un point suivant cette distrbution : \n",
    "$$\\mathbb{P}\\left(Y \\in \\cdot \\mid Y \\in \\mathrm{S}_{\\mu^{(t)}, \\mathbf{i}}\\right)$$\n",
    "la méthode, c'est d'abord sample un point dans le S_i puis ensuite on tire suivant $\\mathbb{P}\\left(Y \\in \\cdot \\mid\\left[\\mu^{(t)}\\right]^T Y=s\\right)$"
   ]
  },
  {
   "cell_type": "code",
   "execution_count": 74,
   "metadata": {},
   "outputs": [
    {
     "data": {
      "text/plain": [
       "array([-1.10647649, -0.80602393, -0.20795223])"
      ]
     },
     "execution_count": 74,
     "metadata": {},
     "output_type": "execute_result"
    }
   ],
   "source": [
    "# Example usage:\n",
    "i_vector = [2, 3, 5]  # Example indices for a 3-dimensional hypercube\n",
    "I = 11  # The total number of divisions along each dimension\n",
    "\n",
    "# Sample a point from the hypercube\n",
    "sampled_point = sample_from_hypercube(i_vector, I)\n",
    "sampled_point\n"
   ]
  },
  {
   "cell_type": "code",
   "execution_count": 80,
   "metadata": {},
   "outputs": [
    {
     "ename": "ValueError",
     "evalue": "operands could not be broadcast together with shapes (3,3) (10,3) ",
     "output_type": "error",
     "traceback": [
      "\u001b[0;31m---------------------------------------------------------------------------\u001b[0m",
      "\u001b[0;31mValueError\u001b[0m                                Traceback (most recent call last)",
      "Cell \u001b[0;32mIn[80], line 9\u001b[0m\n\u001b[1;32m      6\u001b[0m K \u001b[38;5;241m=\u001b[39m \u001b[38;5;241m10\u001b[39m                        \u001b[38;5;66;03m# Number of samples to generate - 10 strates. Donc pour chaque strat les 3 coordonnées. \u001b[39;00m\n\u001b[1;32m      8\u001b[0m \u001b[38;5;66;03m# Generate stratified samples\u001b[39;00m\n\u001b[0;32m----> 9\u001b[0m samples \u001b[38;5;241m=\u001b[39m \u001b[43mstratified_sampling_linear_projection\u001b[49m\u001b[43m(\u001b[49m\u001b[43mmu\u001b[49m\u001b[43m,\u001b[49m\u001b[43m \u001b[49m\u001b[43mSigma\u001b[49m\u001b[43m,\u001b[49m\u001b[43m \u001b[49m\u001b[43mv\u001b[49m\u001b[43m,\u001b[49m\u001b[43m \u001b[49m\u001b[43mK\u001b[49m\u001b[43m,\u001b[49m\u001b[43mx\u001b[49m\u001b[38;5;241;43m=\u001b[39;49m\u001b[43msampled_point\u001b[49m\u001b[43m)\u001b[49m\n\u001b[1;32m     10\u001b[0m \u001b[38;5;66;03m#samples  # Display first 5 samples for brevity\u001b[39;00m\n\u001b[1;32m     11\u001b[0m samples\n",
      "Cell \u001b[0;32mIn[2], line 32\u001b[0m, in \u001b[0;36mstratified_sampling_linear_projection\u001b[0;34m(mu, Sigma, v, K, x)\u001b[0m\n\u001b[1;32m     29\u001b[0m Z \u001b[38;5;241m=\u001b[39m np\u001b[38;5;241m.\u001b[39mrandom\u001b[38;5;241m.\u001b[39mrandn(K, d)  \u001b[38;5;66;03m# Z ~ N(0, I) in d dimensions \u001b[39;00m\n\u001b[1;32m     30\u001b[0m \u001b[38;5;28;01mif\u001b[39;00m x \u001b[38;5;129;01mis\u001b[39;00m \u001b[38;5;129;01mnot\u001b[39;00m \u001b[38;5;28;01mNone\u001b[39;00m:\n\u001b[0;32m---> 32\u001b[0m     xi_samples \u001b[38;5;241m=\u001b[39m \u001b[43mSigma\u001b[49m\u001b[43m \u001b[49m\u001b[38;5;241;43m@\u001b[39;49m\u001b[43m \u001b[49m\u001b[43mv\u001b[49m\u001b[43m \u001b[49m\u001b[38;5;241;43m*\u001b[39;49m\u001b[43m \u001b[49m\u001b[43mx\u001b[49m\u001b[43m[\u001b[49m\u001b[43m:\u001b[49m\u001b[43m,\u001b[49m\u001b[43m \u001b[49m\u001b[38;5;28;43;01mNone\u001b[39;49;00m\u001b[43m]\u001b[49m\u001b[43m \u001b[49m\u001b[38;5;241;43m+\u001b[39;49m\u001b[43m \u001b[49m\u001b[43m(\u001b[49m\u001b[43mA_minus_v_Sigma_v_T_A\u001b[49m\u001b[43m \u001b[49m\u001b[38;5;241;43m@\u001b[39;49m\u001b[43m \u001b[49m\u001b[43mZ\u001b[49m\u001b[38;5;241;43m.\u001b[39;49m\u001b[43mT\u001b[49m\u001b[43m)\u001b[49m\u001b[38;5;241;43m.\u001b[39;49m\u001b[43mT\u001b[49m  \u001b[38;5;66;03m# Conditional samples \u001b[39;00m\n\u001b[1;32m     34\u001b[0m \u001b[38;5;28;01melse\u001b[39;00m:\n\u001b[1;32m     35\u001b[0m     xi_samples \u001b[38;5;241m=\u001b[39m Sigma \u001b[38;5;241m@\u001b[39m v \u001b[38;5;241m*\u001b[39m X[:, \u001b[38;5;28;01mNone\u001b[39;00m] \u001b[38;5;241m+\u001b[39m (A_minus_v_Sigma_v_T_A \u001b[38;5;241m@\u001b[39m Z\u001b[38;5;241m.\u001b[39mT)\u001b[38;5;241m.\u001b[39mT \n",
      "\u001b[0;31mValueError\u001b[0m: operands could not be broadcast together with shapes (3,3) (10,3) "
     ]
    }
   ],
   "source": [
    "\n",
    "mu = np.array([1, 2, 3])               # Mean vector - on est en 3 dimensions \n",
    "Sigma = np.array([[1, 0.5, 0.1],       # Covariance matrix\n",
    "                  [0.5, 2, 0.3],\n",
    "                  [0.1, 0.3, 1]])\n",
    "v = np.array([1, 1, 1])                # Vector for stratification\n",
    "K = 10                        # Number of samples to generate - 10 strates. Donc pour chaque strat les 3 coordonnées. \n",
    "\n",
    "# Generate stratified samples\n",
    "samples = stratified_sampling_linear_projection(mu, Sigma, v, K,x=sampled_point)\n",
    "#samples  # Display first 5 samples for brevity\n",
    "samples"
   ]
  },
  {
   "cell_type": "code",
   "execution_count": null,
   "metadata": {},
   "outputs": [],
   "source": []
  }
 ],
 "metadata": {
  "kernelspec": {
   "display_name": "skfolio",
   "language": "python",
   "name": "python3"
  },
  "language_info": {
   "codemirror_mode": {
    "name": "ipython",
    "version": 3
   },
   "file_extension": ".py",
   "mimetype": "text/x-python",
   "name": "python",
   "nbconvert_exporter": "python",
   "pygments_lexer": "ipython3",
   "version": "3.12.2"
  }
 },
 "nbformat": 4,
 "nbformat_minor": 2
}
