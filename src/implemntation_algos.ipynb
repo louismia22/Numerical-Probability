{
 "cells": [
  {
   "cell_type": "code",
   "execution_count": 1,
   "metadata": {},
   "outputs": [],
   "source": [
    "import numpy as np \n",
    "from scipy.stats import norm\n",
    "from scipy.linalg import cholesky"
   ]
  },
  {
   "cell_type": "markdown",
   "metadata": {},
   "source": [
    "$$\n",
    "\\mathbb{P}\\left(Y \\in \\cdot \\mid Y \\in \\mathrm{S}_{\\mu^{(t)}, \\mathbf{i}}\\right) \\text { et } \\mathbb{P}\\left(Y \\in \\cdot \\mid\\left[\\mu^{(t)}\\right]^T Y=s\\right)\n",
    "$$\n",
    "On le réécrit : \n",
    "$$\n",
    "X=v^{\\top} \\xi \\sim N\\left(0, v^{\\top} \\Sigma v\\right)=N(0,1)\n",
    "$$\n",
    "On a la distrbution conditionnelle : \n",
    "\n",
    "$$\n",
    "(\\xi \\mid X=x) \\sim N\\left(\\frac{\\Sigma v}{v^{\\top} \\Sigma v} x, \\Sigma-\\frac{\\Sigma v v^{\\top} \\Sigma}{v^{\\top} \\Sigma v}\\right)=N\\left(\\Sigma v x, \\Sigma-\\Sigma v v^{\\top} \\Sigma\\right)\n",
    "$$\n",
    "On utilise le tips ci-dessous pour pouvoir simuler (décomposition du terme en variance)\n",
    "\n",
    "$$\n",
    "\\begin{aligned}\n",
    "& \\left(A-\\Sigma v v^{\\top} A\\right)\\left(A-\\Sigma v v^{\\top} A\\right)^{\\top} \\\\\n",
    "& \\quad=A A^{\\top}-A A^{\\top} v v^{\\top} \\Sigma-\\Sigma v v^{\\top} A A^{\\top}+\\Sigma v v^{\\top} \\Sigma v v^{\\top} \\Sigma \\\\\n",
    "& \\quad=\\Sigma-\\Sigma v v^{\\top} \\Sigma\n",
    "\\end{aligned}\n",
    "$$\n",
    "\n",
    "Suivant que l'on veuille sample avec ou non une condition sur la valeur de X, on le spécifie dans la fonction ci-dessous.\n",
    "\n",
    "$$\n",
    "\\begin{aligned}\n",
    "& \\text { for } i=1, \\ldots, K \\\\\n",
    "& \\quad \\text { generate } U \\sim \\operatorname{Unif}[0,1] \\\\\n",
    "& \\quad V \\leftarrow(i-1+U) / K \\\\\n",
    "& \\quad X \\leftarrow \\Phi^{-1}(V) \\\\\n",
    "& \\quad \\text { generate } Z \\sim N(0, I) \\text { in } \\Re^d \\\\\n",
    "& \\quad \\xi \\leftarrow \\Sigma v X+\\left(A-\\Sigma v v^{\\top} A\\right) Z\n",
    "\\end{aligned}\n",
    "$$"
   ]
  },
  {
   "cell_type": "code",
   "execution_count": 2,
   "metadata": {},
   "outputs": [],
   "source": [
    "def stratified_sampling_linear_projection(mu, Sigma, v, K,x=None):\n",
    "    \"\"\"\n",
    "    Generates K samples from N(0, Sigma) stratified along the direction determined by v.\n",
    "    \n",
    "    Args:\n",
    "    - mu (array): The mean vector of the distribution.\n",
    "    - Sigma (2D array): The covariance matrix of the distribution.\n",
    "    - v (array): The vector along which stratification is done.\n",
    "    - K (int): The number of stratified samples to generate.\n",
    "    - x (optionnal) :  si on donne une valeur pour x alors c'est qu'on conditionne à une valeur particulière de x. Sinon on sample sur tout la strat Si. Taille K\n",
    "    \n",
    "    Returns:\n",
    "    - samples (2D array): The generated stratified samples. (K, de N(0,sigma), stratifié sur la direction donnée par v)\n",
    "    \"\"\"\n",
    "    d = len(mu)  # Dimension of the normal distribution\n",
    "    # Normalize v so that v^T Sigma v = 1\n",
    "    v = v / np.sqrt(v.T @ Sigma @ v)\n",
    "    \n",
    "    # Generate K stratified samples for the standard normal distribution along v\n",
    "    U = np.random.uniform(0, 1, K)     # Uniformly distributed samples in (0,1)\n",
    "    V = (np.arange(K) + U) / K         # Stratified samples in (0,1)\n",
    "    X = norm.ppf(V)                    # Inverse CDF (quantile function) to get stratified samples for N(0, 1)\n",
    "   \n",
    "    # Compute the matrix A for the conditional distribution of xi given x\n",
    "    A = cholesky(Sigma, lower=True)    # Cholesky factorization\n",
    "    A_minus_v_Sigma_v_T_A = A - np.outer(Sigma @ v, v.T @ A)\n",
    "    \n",
    "    # Generate K samples from the conditional distribution of xi given X\n",
    "    Z = np.random.randn(K, d)  # Z ~ N(0, I) in d dimensions \n",
    "    if x is not None:\n",
    "\n",
    "        xi_samples = Sigma @ v * x[:, None] + (A_minus_v_Sigma_v_T_A @ Z.T).T  # Conditional samples \n",
    "\n",
    "    else:\n",
    "        xi_samples = Sigma @ v * X[:, None] + (A_minus_v_Sigma_v_T_A @ Z.T).T \n",
    "        \n",
    "    \n",
    "    return xi_samples + mu             # Add the mean to each sample\n"
   ]
  },
  {
   "cell_type": "code",
   "execution_count": 3,
   "metadata": {},
   "outputs": [],
   "source": [
    "# Example usage:\n",
    "mu = np.array([1, 2, 3])               # Mean vector - on est en 3 dimensions \n",
    "Sigma = np.array([[1, 0.5, 0.1],       # Covariance matrix\n",
    "                  [0.5, 2, 0.3],\n",
    "                  [0.1, 0.3, 1]])\n",
    "v = np.array([1, 1, 1])                # Vector for stratification\n",
    "K = 10                            # Number of samples to generate - 10 strates. Donc pour chaque strat les 3 coordonnées. \n",
    "\n",
    "# Generate stratified samples\n",
    "samples = stratified_sampling_linear_projection(mu, Sigma, v, K)\n",
    "#samples  # Display first 5 samples for brevity\n"
   ]
  },
  {
   "cell_type": "code",
   "execution_count": 4,
   "metadata": {},
   "outputs": [
    {
     "data": {
      "text/plain": [
       "array([[-1.11281429,  0.20791618,  1.50514109],\n",
       "       [ 1.46661494,  0.05736931,  2.07885552],\n",
       "       [ 0.71354495,  1.20057925,  2.30792473],\n",
       "       [ 1.85319342,  0.72941979,  2.43164639],\n",
       "       [ 1.06523413,  0.83838845,  3.51691007],\n",
       "       [ 0.93717706,  3.34242541,  2.13840583],\n",
       "       [ 0.89990674,  3.182639  ,  2.79840738],\n",
       "       [ 2.13809686,  2.10785281,  3.71004494],\n",
       "       [ 2.66272563,  3.77733989,  1.99310531],\n",
       "       [ 1.62423839,  2.96071703,  4.66203523]])"
      ]
     },
     "execution_count": 4,
     "metadata": {},
     "output_type": "execute_result"
    }
   ],
   "source": [
    "samples"
   ]
  },
  {
   "cell_type": "code",
   "execution_count": null,
   "metadata": {},
   "outputs": [],
   "source": []
  }
 ],
 "metadata": {
  "kernelspec": {
   "display_name": "skfolio",
   "language": "python",
   "name": "python3"
  },
  "language_info": {
   "codemirror_mode": {
    "name": "ipython",
    "version": 3
   },
   "file_extension": ".py",
   "mimetype": "text/x-python",
   "name": "python",
   "nbconvert_exporter": "python",
   "pygments_lexer": "ipython3",
   "version": "3.12.2"
  }
 },
 "nbformat": 4,
 "nbformat_minor": 2
}
