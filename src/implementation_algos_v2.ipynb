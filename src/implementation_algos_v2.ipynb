{
 "cells": [
  {
   "cell_type": "code",
   "execution_count": 184,
   "metadata": {},
   "outputs": [],
   "source": [
    "import numpy as np \n",
    "from scipy.stats import norm\n",
    "from scipy.linalg import cholesky"
   ]
  },
  {
   "cell_type": "markdown",
   "metadata": {},
   "source": [
    "$$\n",
    "\\mathbb{P}\\left(Y \\in \\cdot \\mid Y \\in \\mathrm{S}_{\\mu^{(t)}, \\mathbf{i}}\\right) \\text { et } \\mathbb{P}\\left(Y \\in \\cdot \\mid\\left[\\mu^{(t)}\\right]^T Y=s\\right)\n",
    "$$\n",
    "Pour le premier cas : on définit la strat, on tire un point au hasard dans la strat, et ensuite on échantillonne conditionnellement à ce point !\n",
    "On le réécrit : \n",
    "$$\n",
    "X=v^{\\top} \\xi \\sim N\\left(0, v^{\\top} \\Sigma v\\right)=N(0,1)\n",
    "$$\n",
    "On a la distrbution conditionnelle : \n",
    "\n",
    "$$\n",
    "(\\xi \\mid X=x) \\sim N\\left(\\frac{\\Sigma v}{v^{\\top} \\Sigma v} x, \\Sigma-\\frac{\\Sigma v v^{\\top} \\Sigma}{v^{\\top} \\Sigma v}\\right)=N\\left(\\Sigma v x, \\Sigma-\\Sigma v v^{\\top} \\Sigma\\right)\n",
    "$$\n",
    "On utilise le tips ci-dessous pour pouvoir simuler (décomposition du terme en variance)\n",
    "\n",
    "$$\n",
    "\\begin{aligned}\n",
    "& \\left(A-\\Sigma v v^{\\top} A\\right)\\left(A-\\Sigma v v^{\\top} A\\right)^{\\top} \\\\\n",
    "& \\quad=A A^{\\top}-A A^{\\top} v v^{\\top} \\Sigma-\\Sigma v v^{\\top} A A^{\\top}+\\Sigma v v^{\\top} \\Sigma v v^{\\top} \\Sigma \\\\\n",
    "& \\quad=\\Sigma-\\Sigma v v^{\\top} \\Sigma\n",
    "\\end{aligned}\n",
    "$$\n",
    "\n",
    "Suivant que l'on veuille sample avec ou non une condition sur la valeur de X, on le spécifie dans la fonction ci-dessous.\n",
    "\n",
    "$$\n",
    "\\begin{aligned}\n",
    "& \\text { for } i=1, \\ldots, K \\\\\n",
    "& \\quad \\text { generate } U \\sim \\operatorname{Unif}[0,1] \\\\\n",
    "& \\quad V \\leftarrow(i-1+U) / K \\\\\n",
    "& \\quad X \\leftarrow \\Phi^{-1}(V) \\\\\n",
    "& \\quad \\text { generate } Z \\sim N(0, I) \\text { in } \\Re^d \\\\\n",
    "& \\quad \\xi \\leftarrow \\Sigma v X+\\left(A-\\Sigma v v^{\\top} A\\right) Z\n",
    "\\end{aligned}\n",
    "$$"
   ]
  },
  {
   "cell_type": "code",
   "execution_count": 187,
   "metadata": {},
   "outputs": [],
   "source": [
    "def stratified_sampling_linear_projection(mean, Sigma, v, K, x=None):\n",
    "    \"\"\"\n",
    "    Generates K samples from N(0, Sigma) stratified along the direction determined by v.\n",
    "    \n",
    "    Args:\n",
    "    - mean (array): The mean vector of the distribution.\n",
    "    - Sigma (2D array): The covariance matrix of the distribution.\n",
    "    - v (array): The vector along which stratification is done.\n",
    "    - K (int): The number of stratified samples to generate.\n",
    "    - x (optionnal) :  si on donne une valeur pour x alors c'est qu'on conditionne à une valeur particulière de x. Sinon on sample sur tout la strat Si. Taille K\n",
    "    \n",
    "    Returns:\n",
    "    - samples (2D array): The generated stratified samples. (K, de N(0,sigma), stratifié sur la direction donnée par v)\n",
    "    \"\"\"\n",
    "    d = len(mean)  # Dimension of the normal distribution\n",
    "    # Normalize v so that v^T Sigma v = 1\n",
    "    v = v / np.sqrt(v.T @ Sigma @ v)\n",
    "    \n",
    "    # Generate K stratified samples for the standard normal distribution along v\n",
    "    U = np.random.uniform(0, 1, K)     # Uniformly distributed samples in (0,1)\n",
    "    V = (np.arange(K) + U) / K         # Stratified samples in (0,1)\n",
    "    \n",
    "    X = norm.ppf(V)                    # Inverse CDF (quantile function) to get stratified samples for N(0, 1)\n",
    "    \n",
    "    # Compute the matrix A for the conditional distribution of xi given x\n",
    "    A = cholesky(Sigma, lower=True)    # Cholesky factorization\n",
    "    A_minus_v_Sigma_v_T_A = A - np.outer(Sigma @ v, v.T @ A)\n",
    "    \n",
    "    # Generate K samples from the conditional distribution of xi given X\n",
    "    Z = np.random.randn(K, d)  # Z ~ N(0, I) in d dimensions \n",
    "    if x is not None:\n",
    "\n",
    "        xi_samples = Sigma @ v * x[:, None] + (A_minus_v_Sigma_v_T_A @ Z.T).T  # Conditional samples \n",
    "        #xi_samples = Sigma @ v @ x + (A_minus_v_Sigma_v_T_A @ Z.T).T\n",
    "\n",
    "    else:\n",
    "        xi_samples = Sigma @ v * X[:, None] + (A_minus_v_Sigma_v_T_A @ Z.T).T \n",
    "        #xi_samples = Sigma @ v @ X + (A_minus_v_Sigma_v_T_A @ Z.T).T \n",
    "        \n",
    "    \n",
    "    return xi_samples + mean            # Add the mean to each sample"
   ]
  },
  {
   "cell_type": "code",
   "execution_count": 188,
   "metadata": {},
   "outputs": [],
   "source": [
    "def tirer_K_nb(borne_inf, borne_sup, K):\n",
    "    #vérifier comment tirer les nonbres uniformes sur -inf, a et sur a, +inf. Plusieurs manieres de faire je suis pas sur \n",
    "    if borne_inf == -np.inf:\n",
    "        # Pour l'intervalle (-∞, b)\n",
    "\n",
    "        u = np.random.uniform(0, 1, K)\n",
    "        x_neg_inf = borne_sup - np.log(1 / u)\n",
    "        return x_neg_inf\n",
    "\n",
    "    elif borne_sup == np.inf:\n",
    "        u = np.random.uniform(0, 1, K)\n",
    "        x_pos_inf = borne_inf + np.log(1 / (1 - u))\n",
    "        return x_pos_inf\n",
    "\n",
    "    else:\n",
    "        out = np.random.uniform(borne_inf , borne_sup, K)\n",
    "        return out "
   ]
  },
  {
   "cell_type": "markdown",
   "metadata": {},
   "source": [
    "Tirage si dessous suivant une valeur de $\\mathbb{P}\\left(Y \\in \\cdot \\mid\\left[\\mu_k^{(t)}\\right]^T Y=s\\right)$\n",
    "\n",
    "Ici $s \\in\\left\\{G_k^{-1}(1 / I), \\cdots, G_k^{-1}((I-1) / I)\\right\\}$"
   ]
  },
  {
   "cell_type": "code",
   "execution_count": 190,
   "metadata": {},
   "outputs": [],
   "source": [
    "def quantiles_normaux(I):\n",
    "    \"\"\"Args : I \n",
    "    return : les quantiles normaux, affiches ci-dessus;\"\"\"\n",
    "   \n",
    "    quantiles = [norm.ppf(k / I) for k in range(1, I)]\n",
    "    \n",
    "    return quantiles"
   ]
  },
  {
   "cell_type": "code",
   "execution_count": 192,
   "metadata": {},
   "outputs": [
    {
     "data": {
      "text/plain": [
       "array([[1.25108677, 1.40287989, 3.99627944],\n",
       "       [1.24771324, 0.65153267, 4.77508339]])"
      ]
     },
     "execution_count": 192,
     "metadata": {},
     "output_type": "execute_result"
    }
   ],
   "source": [
    "# Example usage:\n",
    "mean = np.array([1, 2, 3])               # Mean vector - on est en 3 dimensions \n",
    "Sigma = np.array([[1, 0.5, 0.1],       # Covariance matrix\n",
    "                  [0.5, 2, 0.3],\n",
    "                  [0.1, 0.3, 1]])\n",
    "v = np.array([1, 1, 1])                # Vector for stratification which is centered \n",
    "K = 2                           # Number of samples to generate - 10 strates. Donc pour chaque strat les 3 coordonnées. \n",
    "\n",
    "# Generate stratified samples\n",
    "samples = stratified_sampling_linear_projection(mean, Sigma, v, K, np.array([0.27,0.28]))\n",
    "#samples  # Display first 5 samples for brevity\n",
    "samples"
   ]
  },
  {
   "cell_type": "markdown",
   "metadata": {},
   "source": [
    "Calcul de \n",
    "$$\n",
    "\\mathbb{P}\\left(Y \\in \\cdot \\mid Y \\in \\mathrm{S}_{\\mu^{(t)}, \\mathbf{i}}\\right)\n",
    "$$\n",
    "\n",
    "on donne juste le i, numéro de la strat sur laquelle on veut tirer "
   ]
  },
  {
   "cell_type": "code",
   "execution_count": 209,
   "metadata": {},
   "outputs": [],
   "source": [
    "def tirer_y_strat_nu(mu, i, mean, Sigma, K, S):\n",
    "    \"\"\"\n",
    "\n",
    "    Args : \n",
    "        - mu : l'orientation de la strat \n",
    "        - i : indice appartenant à 0....I-1 !! et pas 1,....I ATTENTION \n",
    "        - mean : moyenne de la v.a. Y \n",
    "        - sigma : variance de la v.a. Y \n",
    "        - S : nos strats \n",
    "    \n",
    "    Outputs : tire K variables suivant l'indice i pour la strat donnée \"\"\"\n",
    "\n",
    "    return  stratified_sampling_linear_projection(mean, Sigma, mu, K, tirer_K_nb(S[i][0],S[i][1], K))"
   ]
  },
  {
   "cell_type": "markdown",
   "metadata": {},
   "source": [
    "# Calcul de Si, la strat Si"
   ]
  },
  {
   "cell_type": "markdown",
   "metadata": {},
   "source": [
    "$$\n",
    "\\mathrm{S}_{\\mathbf{i}} \\stackrel{\\text { def }}{=} \\prod_{k=1}^m\\left(G_k^{-1}\\left(\\frac{i_k-1}{I}\\right), G_k^{-1}\\left(\\frac{i_k}{I}\\right)\\right]\n",
    "$$\n",
    "On calcul Si, et on va tirer dedans. "
   ]
  },
  {
   "cell_type": "code",
   "execution_count": 210,
   "metadata": {},
   "outputs": [],
   "source": [
    "def strats_Si(I):\n",
    "    # Calcul de Si pour chaque ik de 1 à I\n",
    "    results = [(norm.ppf((ik - 1) / I), norm.ppf(ik / I)) for ik in range(1, I + 1)]\n",
    "    return results\n",
    "\n",
    "def p_i_mu(I):\n",
    "    return 1/I\n",
    "\n",
    "I = 100\n",
    "strats = strats_Si(I)"
   ]
  },
  {
   "cell_type": "markdown",
   "metadata": {},
   "source": [
    "# Tirer un point suivant une strat \n",
    "\n",
    "$$\n",
    "\\mathbb{P}\\left(Y \\in \\cdot \\mid Y \\in \\mathrm{S}_{\\mu^{(t)}, \\mathbf{i}}\\right)\n",
    "$$"
   ]
  },
  {
   "cell_type": "code",
   "execution_count": 214,
   "metadata": {},
   "outputs": [
    {
     "data": {
      "text/plain": [
       "array([[0.00616716, 0.01540158, 2.95186818],\n",
       "       [0.33255626, 0.07028231, 2.62180763]])"
      ]
     },
     "execution_count": 214,
     "metadata": {},
     "output_type": "execute_result"
    }
   ],
   "source": [
    "i = 10\n",
    "\n",
    "tirer_y_strat_nu(v, i, mean, Sigma, K, strats) # le nombre en dur est le numero de la strat ici de 0 à 99 car j'ai fais avec 100 levels dans l'exemple "
   ]
  },
  {
   "cell_type": "markdown",
   "metadata": {},
   "source": [
    "# Choix du vecteur d'allocation \n",
    "\n",
    "$$\n",
    "\\sigma_{\\mathbf{i}}^2(\\mu) \\stackrel{\\text { def }}{=} \\mathrm{E}\\left[\\phi^2(Y) \\mid \\mu^T Y \\in \\mathrm{S}_{\\mathbf{i}}\\right]-\\left(\\mathrm{E}\\left[\\phi(Y) \\mid \\mu^T Y \\in \\mathrm{S}_{\\mathbf{i}}\\right]\\right)^2\n",
    "$$\n",
    "\n",
    "Puis cela permet de calculer : \n",
    "\n",
    "$$\n",
    "q_{\\mathbf{i}}^{\\star}(\\mu) \\stackrel{\\text { def }}{=} \\frac{p_{\\mathbf{i}}(\\mu) \\sigma_{\\mathbf{i}}(\\mu)}{\\sum_{\\mathbf{j} \\in \\mathcal{I}} p_{\\mathbf{j}}(\\mu) \\sigma_{\\mathbf{j}}(\\mu)} .\n",
    "$$"
   ]
  },
  {
   "cell_type": "code",
   "execution_count": 203,
   "metadata": {},
   "outputs": [],
   "source": [
    "# fonctions payoff arbitraires \n",
    "\n",
    "def phi(x):\n",
    "    return x "
   ]
  },
  {
   "cell_type": "markdown",
   "metadata": {},
   "source": [
    "calcul du sigma i tel que défini ci-dessus. "
   ]
  },
  {
   "cell_type": "code",
   "execution_count": 204,
   "metadata": {},
   "outputs": [],
   "source": [
    "def sigma_i(v, i, mu, Sigma, K, results):\n",
    "    #calcul simplement le sigma_i que l'on utilise. Sachant que le pi vaut 1/I \n",
    "    return np.sqrt(np.mean(phi(tirer_y_strat_nu(v,i,mu,Sigma,K,results))**2)- np.mean(phi(tirer_y_strat_nu(v,i,mu,Sigma,K,results)))**2)"
   ]
  },
  {
   "cell_type": "code",
   "execution_count": 205,
   "metadata": {},
   "outputs": [
    {
     "ename": "TypeError",
     "evalue": "object of type 'int' has no len()",
     "output_type": "error",
     "traceback": [
      "\u001b[0;31m---------------------------------------------------------------------------\u001b[0m",
      "\u001b[0;31mTypeError\u001b[0m                                 Traceback (most recent call last)",
      "Cell \u001b[0;32mIn [205], line 1\u001b[0m\n\u001b[0;32m----> 1\u001b[0m \u001b[43msigma_i\u001b[49m\u001b[43m(\u001b[49m\u001b[43mv\u001b[49m\u001b[43m,\u001b[49m\u001b[43m \u001b[49m\u001b[38;5;241;43m0\u001b[39;49m\u001b[43m,\u001b[49m\u001b[43m \u001b[49m\u001b[43mi\u001b[49m\u001b[43m,\u001b[49m\u001b[43m \u001b[49m\u001b[43mSigma\u001b[49m\u001b[43m,\u001b[49m\u001b[43m \u001b[49m\u001b[38;5;241;43m2000\u001b[39;49m\u001b[43m,\u001b[49m\u001b[43m \u001b[49m\u001b[43mstrats\u001b[49m\u001b[43m)\u001b[49m\n",
      "Cell \u001b[0;32mIn [204], line 3\u001b[0m, in \u001b[0;36msigma_i\u001b[0;34m(v, i, mu, Sigma, K, results)\u001b[0m\n\u001b[1;32m      1\u001b[0m \u001b[38;5;28;01mdef\u001b[39;00m \u001b[38;5;21msigma_i\u001b[39m(v, i, mu, Sigma, K, results):\n\u001b[1;32m      2\u001b[0m     \u001b[38;5;66;03m#calcul simplement le sigma_i que l'on utilise. Sachant que le pi vaut 1/I \u001b[39;00m\n\u001b[0;32m----> 3\u001b[0m     \u001b[38;5;28;01mreturn\u001b[39;00m np\u001b[38;5;241m.\u001b[39msqrt(np\u001b[38;5;241m.\u001b[39mmean(phi(\u001b[43mtirer_y_strat_nu\u001b[49m\u001b[43m(\u001b[49m\u001b[43mv\u001b[49m\u001b[43m,\u001b[49m\u001b[43mi\u001b[49m\u001b[43m,\u001b[49m\u001b[43mmu\u001b[49m\u001b[43m,\u001b[49m\u001b[43mSigma\u001b[49m\u001b[43m,\u001b[49m\u001b[43mK\u001b[49m\u001b[43m,\u001b[49m\u001b[43mresults\u001b[49m\u001b[43m)\u001b[49m)\u001b[38;5;241m*\u001b[39m\u001b[38;5;241m*\u001b[39m\u001b[38;5;241m2\u001b[39m)\u001b[38;5;241m-\u001b[39m np\u001b[38;5;241m.\u001b[39mmean(phi(tirer_y_strat_nu(v,i,mu,Sigma,K,results)))\u001b[38;5;241m*\u001b[39m\u001b[38;5;241m*\u001b[39m\u001b[38;5;241m2\u001b[39m)\n",
      "Cell \u001b[0;32mIn [200], line 13\u001b[0m, in \u001b[0;36mtirer_y_strat_nu\u001b[0;34m(v, i, mean, Sigma, K, S)\u001b[0m\n\u001b[1;32m      1\u001b[0m \u001b[38;5;28;01mdef\u001b[39;00m \u001b[38;5;21mtirer_y_strat_nu\u001b[39m(v, i, mean, Sigma, K, S):\n\u001b[1;32m      2\u001b[0m \u001b[38;5;250m    \u001b[39m\u001b[38;5;124;03m\"\"\"\u001b[39;00m\n\u001b[1;32m      3\u001b[0m \n\u001b[1;32m      4\u001b[0m \u001b[38;5;124;03m    Args : \u001b[39;00m\n\u001b[0;32m   (...)\u001b[0m\n\u001b[1;32m     10\u001b[0m \u001b[38;5;124;03m    \u001b[39;00m\n\u001b[1;32m     11\u001b[0m \u001b[38;5;124;03m    Outputs : tire K variables suivant l'indice i pour la strat donnée \"\"\"\u001b[39;00m\n\u001b[0;32m---> 13\u001b[0m     \u001b[38;5;28;01mreturn\u001b[39;00m  \u001b[43mstratified_sampling_linear_projection\u001b[49m\u001b[43m(\u001b[49m\u001b[43mmean\u001b[49m\u001b[43m,\u001b[49m\u001b[43m \u001b[49m\u001b[43mSigma\u001b[49m\u001b[43m,\u001b[49m\u001b[43m \u001b[49m\u001b[43mv\u001b[49m\u001b[43m,\u001b[49m\u001b[43m \u001b[49m\u001b[43mK\u001b[49m\u001b[43m,\u001b[49m\u001b[43mtirer_K_nb\u001b[49m\u001b[43m(\u001b[49m\u001b[43mS\u001b[49m\u001b[43m[\u001b[49m\u001b[43mi\u001b[49m\u001b[43m]\u001b[49m\u001b[43m[\u001b[49m\u001b[38;5;241;43m0\u001b[39;49m\u001b[43m]\u001b[49m\u001b[43m,\u001b[49m\u001b[43mS\u001b[49m\u001b[43m[\u001b[49m\u001b[43mi\u001b[49m\u001b[43m]\u001b[49m\u001b[43m[\u001b[49m\u001b[38;5;241;43m1\u001b[39;49m\u001b[43m]\u001b[49m\u001b[43m,\u001b[49m\u001b[43mK\u001b[49m\u001b[43m)\u001b[49m\u001b[43m)\u001b[49m\n",
      "Cell \u001b[0;32mIn [187], line 15\u001b[0m, in \u001b[0;36mstratified_sampling_linear_projection\u001b[0;34m(mean, Sigma, v, K, x)\u001b[0m\n\u001b[1;32m      1\u001b[0m \u001b[38;5;28;01mdef\u001b[39;00m \u001b[38;5;21mstratified_sampling_linear_projection\u001b[39m(mean, Sigma, v, K, x\u001b[38;5;241m=\u001b[39m\u001b[38;5;28;01mNone\u001b[39;00m):\n\u001b[1;32m      2\u001b[0m \u001b[38;5;250m    \u001b[39m\u001b[38;5;124;03m\"\"\"\u001b[39;00m\n\u001b[1;32m      3\u001b[0m \u001b[38;5;124;03m    Generates K samples from N(0, Sigma) stratified along the direction determined by v.\u001b[39;00m\n\u001b[1;32m      4\u001b[0m \u001b[38;5;124;03m    \u001b[39;00m\n\u001b[0;32m   (...)\u001b[0m\n\u001b[1;32m     13\u001b[0m \u001b[38;5;124;03m    - samples (2D array): The generated stratified samples. (K, de N(0,sigma), stratifié sur la direction donnée par v)\u001b[39;00m\n\u001b[1;32m     14\u001b[0m \u001b[38;5;124;03m    \"\"\"\u001b[39;00m\n\u001b[0;32m---> 15\u001b[0m     d \u001b[38;5;241m=\u001b[39m \u001b[38;5;28;43mlen\u001b[39;49m\u001b[43m(\u001b[49m\u001b[43mmean\u001b[49m\u001b[43m)\u001b[49m  \u001b[38;5;66;03m# Dimension of the normal distribution\u001b[39;00m\n\u001b[1;32m     16\u001b[0m     \u001b[38;5;66;03m# Normalize v so that v^T Sigma v = 1\u001b[39;00m\n\u001b[1;32m     17\u001b[0m     v \u001b[38;5;241m=\u001b[39m v \u001b[38;5;241m/\u001b[39m np\u001b[38;5;241m.\u001b[39msqrt(v\u001b[38;5;241m.\u001b[39mT \u001b[38;5;241m@\u001b[39m Sigma \u001b[38;5;241m@\u001b[39m v)\n",
      "\u001b[0;31mTypeError\u001b[0m: object of type 'int' has no len()"
     ]
    }
   ],
   "source": [
    "sigma_i(v, 0, i, Sigma, 2000, strats)"
   ]
  },
  {
   "cell_type": "markdown",
   "metadata": {},
   "source": [
    "calcul du vecteur d'allocation optimale à l'instant initial. "
   ]
  },
  {
   "cell_type": "code",
   "execution_count": 15,
   "metadata": {},
   "outputs": [],
   "source": [
    "def calculate_q_star(mu, I, v, Sigma, K, results):\n",
    "    # Initialisation du vecteur des sigmas\n",
    "    sigma_values = np.zeros(I)\n",
    "    \n",
    "    # Calcul de chaque sigma_i pour un mu donné\n",
    "    for i in range(I):\n",
    "        sigma_values[i] = sigma_i(v, i, mu, Sigma, K, results)\n",
    "    \n",
    "    # Puisque p_i(mu) = 1/I pour tous i, on peut simplifier la somme\n",
    "    sigma_p_sum = np.sum(sigma_values) / I  # C'est la somme de tous les sigma_i / I\n",
    "    \n",
    "    # Calcul de q_i*(mu) pour chaque i\n",
    "    q_star = (sigma_values / sigma_p_sum) / I\n",
    "    \n",
    "    return q_star\n"
   ]
  },
  {
   "cell_type": "code",
   "execution_count": 16,
   "metadata": {},
   "outputs": [],
   "source": [
    "qi = calculate_q_star(mu, 100, v, Sigma, 2000, results) #les allocations optimales qi "
   ]
  },
  {
   "cell_type": "markdown",
   "metadata": {},
   "source": [
    "Calcul des quantites Mi à allouer. "
   ]
  },
  {
   "cell_type": "code",
   "execution_count": 17,
   "metadata": {},
   "outputs": [],
   "source": [
    "def calculate_M(q, M):\n",
    "    # Calculer la somme cumulative des qj\n",
    "    cumulative_sums = [0] * len(q)\n",
    "    cumulative_sums[0] = q[0]\n",
    "    for i in range(1, len(q)):\n",
    "        cumulative_sums[i] = cumulative_sums[i - 1] + q[i]\n",
    "\n",
    "    # Calculer Mi pour chaque i\n",
    "    Mi = []\n",
    "    for i in range(len(q)):\n",
    "        if i == 0:\n",
    "            sum_j_less_i = 0  # Pas de j < i pour i = 0\n",
    "        else:\n",
    "            sum_j_less_i = cumulative_sums[i - 1]\n",
    "\n",
    "        sum_j_less_equal_i = cumulative_sums[i]\n",
    "        Mi.append(M * (sum_j_less_equal_i - sum_j_less_i))\n",
    "\n",
    "    return Mi\n"
   ]
  },
  {
   "cell_type": "code",
   "execution_count": 18,
   "metadata": {},
   "outputs": [
    {
     "data": {
      "text/plain": [
       "[14.905029515205719,\n",
       " 11.272860612803884,\n",
       " 11.101882836944808,\n",
       " 10.645636608021016,\n",
       " 10.65327128765927,\n",
       " 10.628892979460819,\n",
       " 10.684163153554707,\n",
       " 10.554947214555105,\n",
       " 10.544727202113288,\n",
       " 10.385783760292519,\n",
       " 10.28276414115356,\n",
       " 10.262852212445313,\n",
       " 10.295137440519353,\n",
       " 10.269380578837778,\n",
       " 10.323764882515574,\n",
       " 10.021401557295917,\n",
       " 10.034931399509144,\n",
       " 10.100608397427518,\n",
       " 10.146103681385659,\n",
       " 10.022771945897013,\n",
       " 9.979104605068844,\n",
       " 9.948466035473807,\n",
       " 9.839800390806841,\n",
       " 10.098694239152161,\n",
       " 9.833621918298729,\n",
       " 9.854401507547294,\n",
       " 10.003708171932079,\n",
       " 9.835237324688162,\n",
       " 10.014676319681504,\n",
       " 9.94552614061578,\n",
       " 9.88010325688049,\n",
       " 9.951069407056256,\n",
       " 9.95392309623333,\n",
       " 9.835677439050505,\n",
       " 9.885236983100787,\n",
       " 9.941793813535716,\n",
       " 9.809418087461719,\n",
       " 9.633846305259153,\n",
       " 9.686011757270574,\n",
       " 9.725293020883708,\n",
       " 9.720473296958353,\n",
       " 9.794540118489792,\n",
       " 9.590118967919835,\n",
       " 9.67709966557595,\n",
       " 9.738919941269852,\n",
       " 9.56345880046927,\n",
       " 9.668463963584617,\n",
       " 9.901792002878551,\n",
       " 9.703048492791467,\n",
       " 9.626577856157613,\n",
       " 9.834755976492971,\n",
       " 9.599182411297535,\n",
       " 9.699126429844384,\n",
       " 9.638272130601088,\n",
       " 9.714189794960081,\n",
       " 9.6350061885484,\n",
       " 9.65484513600745,\n",
       " 9.62347987388068,\n",
       " 9.531561680636734,\n",
       " 9.784117577929852,\n",
       " 9.756973985865503,\n",
       " 9.62565893171341,\n",
       " 9.6155812759815,\n",
       " 9.602501239858729,\n",
       " 9.756365075843876,\n",
       " 9.662945036002956,\n",
       " 9.479478779197414,\n",
       " 9.760470941694187,\n",
       " 9.701194892904109,\n",
       " 9.712445365273048,\n",
       " 9.702752238411549,\n",
       " 9.648586804658521,\n",
       " 9.580508066760807,\n",
       " 9.62099070440592,\n",
       " 9.689306010892572,\n",
       " 9.770564076046817,\n",
       " 9.65439634981935,\n",
       " 9.741019271465534,\n",
       " 9.683444432747933,\n",
       " 9.625015116553225,\n",
       " 9.760276181526418,\n",
       " 9.795413173238842,\n",
       " 9.763029327023443,\n",
       " 9.806289065058094,\n",
       " 9.76739834620044,\n",
       " 9.640733895176945,\n",
       " 9.625498928621411,\n",
       " 9.719188387270483,\n",
       " 9.743907953134844,\n",
       " 9.790479305406109,\n",
       " 9.718888049870532,\n",
       " 10.141994410438615,\n",
       " 9.962548298261487,\n",
       " 9.930697012206945,\n",
       " 10.003126139160656,\n",
       " 10.08859771646442,\n",
       " 9.933202826920784,\n",
       " 10.320396300656842,\n",
       " 10.484930824814832,\n",
       " 14.121653728561224]"
      ]
     },
     "execution_count": 18,
     "metadata": {},
     "output_type": "execute_result"
    }
   ],
   "source": [
    "calculate_M(qi,1000) #donne le nb de simu par strat. "
   ]
  },
  {
   "cell_type": "code",
   "execution_count": 218,
   "metadata": {},
   "outputs": [],
   "source": [
    "def initialisation(M, mean, I, mu, Sigma, K=2000):\n",
    "    \"\"\"Args : \n",
    "        - M : nb de simu total pour le sample \n",
    "        - mean, Sigma : moyenne et variance de Y\n",
    "        - mu : direction de stratifaction \n",
    "        - K : nb de simu juste pour calculer les grandeurs intermediares tq sigma etc... \"\"\"\n",
    "    #renvoie ce qu'il faut pour étape 2 : à savoir les Mi, les pi, et la direction mu de stratifaction \n",
    "    results = strats_Si(I) #les strats \n",
    "    qi = calculate_q_star(mean, I, v, Sigma, K, results)\n",
    "    \n",
    "    return calculate_M(qi, M), np.array(I*[1/I]), mu"
   ]
  },
  {
   "cell_type": "code",
   "execution_count": 22,
   "metadata": {},
   "outputs": [],
   "source": [
    "def create_positive_semi_definite_matrix(dim):\n",
    "    # Générer une matrice aléatoire\n",
    "    A = np.random.randn(dim, dim)\n",
    "    \n",
    "    # Utiliser le produit de A et sa transposée pour obtenir une matrice semi-définie positive\n",
    "    B = np.dot(A, A.T)\n",
    "    \n",
    "    # Normaliser les diagonales pour que la diagonale soit 1\n",
    "    D = np.sqrt(np.diag(B))\n",
    "    B = B / D\n",
    "    B = B / D[:, np.newaxis]\n",
    "    \n",
    "    return B\n",
    "\n",
    "# Créer une matrice de corrélation semi-définie positive de dimension 5x5\n",
    "dim = 5\n",
    "correlation_matrix = create_positive_semi_definite_matrix(dim)\n"
   ]
  },
  {
   "cell_type": "markdown",
   "metadata": {},
   "source": [
    "# ALGO"
   ]
  },
  {
   "cell_type": "code",
   "execution_count": 374,
   "metadata": {},
   "outputs": [],
   "source": [
    "K = 1000\n",
    "I = 100\n",
    "d = 3\n",
    "phi = lambda x : np.sum(x)\n",
    "mean = np.array([1, 1, 1])\n",
    "cov = np.array([[1, 0.1, 0.1],   \n",
    "                  [0.1, 20, 0.1],\n",
    "                  [0.1, 0.1, 1]])\n",
    "strats = strats_Si(I)\n",
    "\n",
    "\n",
    "mu0 = np.ones(d)/np.sqrt(d)\n",
    "p0 = np.ones(I)/I\n",
    "sigma0 = np.ones(I)/I"
   ]
  },
  {
   "cell_type": "code",
   "execution_count": 375,
   "metadata": {},
   "outputs": [],
   "source": [
    "def get_nu_and_grad_nu_estimates(mu, \n",
    "                                 p, \n",
    "                                 I, \n",
    "                                 d, \n",
    "                                 phi, \n",
    "                                 mean, \n",
    "                                 cov, \n",
    "                                 strats,\n",
    "                                 K):\n",
    "\n",
    "    phi2 = lambda x: phi(x)**2\n",
    "\n",
    "    nu_f_phi = np.zeros((I))\n",
    "    nu_f_phi2 = np.zeros((I))\n",
    "\n",
    "    grad_nu_f = np.zeros((I, d))\n",
    "    grad_nu_f_phi = np.zeros((I, d))\n",
    "    grad_nu_f_phi2 = np.zeros((I, d))\n",
    "\n",
    "    Ms = np.zeros((I, K, d))\n",
    "\n",
    "    for i in range(I):\n",
    "\n",
    "        Ms[i] = tirer_y_strat_nu(mu, i, mean, cov, K, strats)\n",
    "    \n",
    "    for i in range(I):\n",
    "\n",
    "        nu_f_phi[i] = p[i]*np.mean(np.apply_along_axis(phi, 1, Ms[i]))\n",
    "        nu_f_phi2[i] = p[i]*np.mean(np.apply_along_axis(phi2, 1, Ms[i]))\n",
    "\n",
    "        grad_nu_f[i] = - np.mean(Ms[i], axis=0)/np.abs(mu)\n",
    "        grad_nu_f_phi[i] = - np.mean(Ms[i]*np.apply_along_axis(phi, 1, Ms[i])[:, np.newaxis]/np.abs(mu), axis=0)\n",
    "        grad_nu_f_phi2[i] = - np.mean(Ms[i]*np.apply_along_axis(phi2, 1, Ms[i])[:, np.newaxis]/np.abs(mu), axis=0)\n",
    "\n",
    "    return nu_f_phi, nu_f_phi2, grad_nu_f, grad_nu_f_phi, grad_nu_f_phi2"
   ]
  },
  {
   "cell_type": "code",
   "execution_count": 376,
   "metadata": {},
   "outputs": [],
   "source": [
    "nu_f_phi, nu_f_phi2, grad_nu_f, grad_nu_f_phi, grad_nu_f_phi2 = get_nu_and_grad_nu_estimates(mu0, p0, I, d, phi, mean, cov, strats, K)"
   ]
  },
  {
   "cell_type": "code",
   "execution_count": 377,
   "metadata": {},
   "outputs": [],
   "source": [
    "def get_p_sigma(nu_f_phi, nu_f_phi2):\n",
    "\n",
    "    I = len(nu_f_phi)\n",
    "    p = np.ones(I)/I\n",
    "    sigma = np.sqrt(nu_f_phi2/p\n",
    "                      - ((nu_f_phi)/p)**2)\n",
    "    \n",
    "    return p, sigma"
   ]
  },
  {
   "cell_type": "code",
   "execution_count": 378,
   "metadata": {},
   "outputs": [],
   "source": [
    "p1, sigma1 = get_p_sigma(nu_f_phi, nu_f_phi2)"
   ]
  },
  {
   "cell_type": "code",
   "execution_count": 379,
   "metadata": {},
   "outputs": [],
   "source": [
    "def get_grad_V(nu_f_phi, \n",
    "               nu_f_phi2, \n",
    "               grad_nu_f, \n",
    "               grad_nu_f_phi, \n",
    "               grad_nu_f_phi2, \n",
    "               p,\n",
    "               sigma):\n",
    "    \n",
    "    I = len(nu_f_phi)\n",
    "    grad_V = 0\n",
    "\n",
    "    for i in range(I):\n",
    "\n",
    "        if p[i]*sigma[i] != 0:\n",
    "\n",
    "            term_to_add = (grad_nu_f[i] * nu_f_phi2[i]\n",
    "                            + p[i] * grad_nu_f_phi2[i]\n",
    "                            - 2 * nu_f_phi[i] * grad_nu_f_phi[i]) / (2 * p[i] * sigma[i])\n",
    "            \n",
    "            grad_V += term_to_add\n",
    "\n",
    "    return grad_V"
   ]
  },
  {
   "cell_type": "code",
   "execution_count": 380,
   "metadata": {},
   "outputs": [],
   "source": [
    "grad_V = get_grad_V(nu_f_phi, \n",
    "                   nu_f_phi2, \n",
    "                   grad_nu_f, \n",
    "                   grad_nu_f_phi, \n",
    "                   grad_nu_f_phi2, \n",
    "                   p1,\n",
    "                   sigma1)"
   ]
  },
  {
   "cell_type": "code",
   "execution_count": 381,
   "metadata": {},
   "outputs": [
    {
     "data": {
      "text/plain": [
       "array([-27.3650533 , -41.39613036, -28.45544771])"
      ]
     },
     "execution_count": 381,
     "metadata": {},
     "output_type": "execute_result"
    }
   ],
   "source": [
    "grad_V"
   ]
  },
  {
   "cell_type": "code",
   "execution_count": 382,
   "metadata": {},
   "outputs": [],
   "source": [
    "def update_mu(mu,\n",
    "              gamma, \n",
    "              grad_V):\n",
    "\n",
    "    mu_hat = mu - gamma * grad_V\n",
    "\n",
    "    # Perform singular value decomposition\n",
    "    U, _, _ = np.linalg.svd(mu_hat[:, np.newaxis])\n",
    "\n",
    "    # Define mu_(t+1) as the orthogonal matrix found by keeping the m left singular vectors\n",
    "    mu_t_plus_1 = U[:, :1].T[0]\n",
    "\n",
    "    return mu_t_plus_1"
   ]
  },
  {
   "cell_type": "code",
   "execution_count": 383,
   "metadata": {},
   "outputs": [],
   "source": [
    "mu1 = update_mu(mu0, 0.1, grad_V)"
   ]
  },
  {
   "cell_type": "code",
   "execution_count": 385,
   "metadata": {},
   "outputs": [
    {
     "data": {
      "text/plain": [
       "array([0.49428834, 0.70357319, 0.51055245])"
      ]
     },
     "execution_count": 385,
     "metadata": {},
     "output_type": "execute_result"
    }
   ],
   "source": [
    "mu1"
   ]
  }
 ],
 "metadata": {
  "kernelspec": {
   "display_name": "skfolio",
   "language": "python",
   "name": "python3"
  },
  "language_info": {
   "codemirror_mode": {
    "name": "ipython",
    "version": 3
   },
   "file_extension": ".py",
   "mimetype": "text/x-python",
   "name": "python",
   "nbconvert_exporter": "python",
   "pygments_lexer": "ipython3",
   "version": "3.10.0"
  }
 },
 "nbformat": 4,
 "nbformat_minor": 2
}
