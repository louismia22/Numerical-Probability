{
 "cells": [
  {
   "cell_type": "code",
   "execution_count": 184,
   "metadata": {},
   "outputs": [],
   "source": [
    "import numpy as np \n",
    "from scipy.stats import norm\n",
    "from scipy.linalg import cholesky"
   ]
  },
  {
   "cell_type": "markdown",
   "metadata": {},
   "source": [
    "$$\n",
    "\\mathbb{P}\\left(Y \\in \\cdot \\mid Y \\in \\mathrm{S}_{\\mu^{(t)}, \\mathbf{i}}\\right) \\text { et } \\mathbb{P}\\left(Y \\in \\cdot \\mid\\left[\\mu^{(t)}\\right]^T Y=s\\right)\n",
    "$$\n",
    "Pour le premier cas : on définit la strat, on tire un point au hasard dans la strat, et ensuite on échantillonne conditionnellement à ce point !\n",
    "On le réécrit : \n",
    "$$\n",
    "X=v^{\\top} \\xi \\sim N\\left(0, v^{\\top} \\Sigma v\\right)=N(0,1)\n",
    "$$\n",
    "On a la distrbution conditionnelle : \n",
    "\n",
    "$$\n",
    "(\\xi \\mid X=x) \\sim N\\left(\\frac{\\Sigma v}{v^{\\top} \\Sigma v} x, \\Sigma-\\frac{\\Sigma v v^{\\top} \\Sigma}{v^{\\top} \\Sigma v}\\right)=N\\left(\\Sigma v x, \\Sigma-\\Sigma v v^{\\top} \\Sigma\\right)\n",
    "$$\n",
    "On utilise le tips ci-dessous pour pouvoir simuler (décomposition du terme en variance)\n",
    "\n",
    "$$\n",
    "\\begin{aligned}\n",
    "& \\left(A-\\Sigma v v^{\\top} A\\right)\\left(A-\\Sigma v v^{\\top} A\\right)^{\\top} \\\\\n",
    "& \\quad=A A^{\\top}-A A^{\\top} v v^{\\top} \\Sigma-\\Sigma v v^{\\top} A A^{\\top}+\\Sigma v v^{\\top} \\Sigma v v^{\\top} \\Sigma \\\\\n",
    "& \\quad=\\Sigma-\\Sigma v v^{\\top} \\Sigma\n",
    "\\end{aligned}\n",
    "$$\n",
    "\n",
    "Suivant que l'on veuille sample avec ou non une condition sur la valeur de X, on le spécifie dans la fonction ci-dessous.\n",
    "\n",
    "$$\n",
    "\\begin{aligned}\n",
    "& \\text { for } i=1, \\ldots, K \\\\\n",
    "& \\quad \\text { generate } U \\sim \\operatorname{Unif}[0,1] \\\\\n",
    "& \\quad V \\leftarrow(i-1+U) / K \\\\\n",
    "& \\quad X \\leftarrow \\Phi^{-1}(V) \\\\\n",
    "& \\quad \\text { generate } Z \\sim N(0, I) \\text { in } \\Re^d \\\\\n",
    "& \\quad \\xi \\leftarrow \\Sigma v X+\\left(A-\\Sigma v v^{\\top} A\\right) Z\n",
    "\\end{aligned}\n",
    "$$"
   ]
  },
  {
   "cell_type": "code",
   "execution_count": 187,
   "metadata": {},
   "outputs": [],
   "source": [
    "def stratified_sampling_linear_projection(mean, Sigma, v, K, x=None):\n",
    "    \"\"\"\n",
    "    Generates K samples from N(0, Sigma) stratified along the direction determined by v.\n",
    "    \n",
    "    Args:\n",
    "    - mean (array): The mean vector of the distribution.\n",
    "    - Sigma (2D array): The covariance matrix of the distribution.\n",
    "    - v (array): The vector along which stratification is done.\n",
    "    - K (int): The number of stratified samples to generate.\n",
    "    - x (optionnal) :  si on donne une valeur pour x alors c'est qu'on conditionne à une valeur particulière de x. Sinon on sample sur tout la strat Si. Taille K\n",
    "    \n",
    "    Returns:\n",
    "    - samples (2D array): The generated stratified samples. (K, de N(0,sigma), stratifié sur la direction donnée par v)\n",
    "    \"\"\"\n",
    "    d = len(mean)  # Dimension of the normal distribution\n",
    "    # Normalize v so that v^T Sigma v = 1\n",
    "    v = v / np.sqrt(v.T @ Sigma @ v)\n",
    "    \n",
    "    # Generate K stratified samples for the standard normal distribution along v\n",
    "    U = np.random.uniform(0, 1, K)     # Uniformly distributed samples in (0,1)\n",
    "    V = (np.arange(K) + U) / K         # Stratified samples in (0,1)\n",
    "    \n",
    "    X = norm.ppf(V)                    # Inverse CDF (quantile function) to get stratified samples for N(0, 1)\n",
    "    \n",
    "    # Compute the matrix A for the conditional distribution of xi given x\n",
    "    A = cholesky(Sigma, lower=True)    # Cholesky factorization\n",
    "    A_minus_v_Sigma_v_T_A = A - np.outer(Sigma @ v, v.T @ A)\n",
    "    \n",
    "    # Generate K samples from the conditional distribution of xi given X\n",
    "    Z = np.random.randn(K, d)  # Z ~ N(0, I) in d dimensions \n",
    "    if x is not None:\n",
    "\n",
    "        xi_samples = Sigma @ v * x[:, None] + (A_minus_v_Sigma_v_T_A @ Z.T).T  # Conditional samples \n",
    "        #xi_samples = Sigma @ v @ x + (A_minus_v_Sigma_v_T_A @ Z.T).T\n",
    "\n",
    "    else:\n",
    "        xi_samples = Sigma @ v * X[:, None] + (A_minus_v_Sigma_v_T_A @ Z.T).T \n",
    "        #xi_samples = Sigma @ v @ X + (A_minus_v_Sigma_v_T_A @ Z.T).T \n",
    "        \n",
    "    \n",
    "    return xi_samples + mean            # Add the mean to each sample"
   ]
  },
  {
   "cell_type": "code",
   "execution_count": 436,
   "metadata": {},
   "outputs": [],
   "source": [
    "def tirer_K_nb(borne_inf, borne_sup, K):\n",
    "    #vérifier comment tirer les nonbres uniformes sur -inf, a et sur a, +inf. Plusieurs manieres de faire je suis pas sur \n",
    "    if borne_inf == -np.inf:\n",
    "        # Pour l'intervalle (-∞, b)\n",
    "\n",
    "        u = np.random.uniform(0, 1, K)\n",
    "        x_neg_inf = borne_sup - np.log(1 / u)\n",
    "        return x_neg_inf\n",
    "\n",
    "    elif borne_sup == np.inf:\n",
    "        u = np.random.uniform(0, 1, K)\n",
    "        x_pos_inf = borne_inf + np.log(1 / (1 - u))\n",
    "        return x_pos_inf\n",
    "\n",
    "    else:\n",
    "        out = np.random.uniform(borne_inf , borne_sup, K)\n",
    "        return out "
   ]
  },
  {
   "cell_type": "markdown",
   "metadata": {},
   "source": [
    "Tirage si dessous suivant une valeur de $\\mathbb{P}\\left(Y \\in \\cdot \\mid\\left[\\mu_k^{(t)}\\right]^T Y=s\\right)$\n",
    "\n",
    "Ici $s \\in\\left\\{G_k^{-1}(1 / I), \\cdots, G_k^{-1}((I-1) / I)\\right\\}$"
   ]
  },
  {
   "cell_type": "code",
   "execution_count": 190,
   "metadata": {},
   "outputs": [],
   "source": [
    "def quantiles_normaux(I):\n",
    "    \"\"\"Args : I \n",
    "    return : les quantiles normaux, affiches ci-dessus;\"\"\"\n",
    "   \n",
    "    quantiles = [norm.ppf(k / I) for k in range(1, I)]\n",
    "    \n",
    "    return quantiles"
   ]
  },
  {
   "cell_type": "code",
   "execution_count": 192,
   "metadata": {},
   "outputs": [
    {
     "data": {
      "text/plain": [
       "array([[1.25108677, 1.40287989, 3.99627944],\n",
       "       [1.24771324, 0.65153267, 4.77508339]])"
      ]
     },
     "execution_count": 192,
     "metadata": {},
     "output_type": "execute_result"
    }
   ],
   "source": [
    "# Example usage:\n",
    "mean = np.array([1, 2, 3])               # Mean vector - on est en 3 dimensions \n",
    "Sigma = np.array([[1, 0.5, 0.1],       # Covariance matrix\n",
    "                  [0.5, 2, 0.3],\n",
    "                  [0.1, 0.3, 1]])\n",
    "v = np.array([1, 1, 1])                # Vector for stratification which is centered \n",
    "K = 2                           # Number of samples to generate - 10 strates. Donc pour chaque strat les 3 coordonnées. \n",
    "\n",
    "# Generate stratified samples\n",
    "samples = stratified_sampling_linear_projection(mean, Sigma, v, K, np.array([0.27,0.28]))\n",
    "#samples  # Display first 5 samples for brevity\n",
    "samples"
   ]
  },
  {
   "cell_type": "markdown",
   "metadata": {},
   "source": [
    "Calcul de \n",
    "$$\n",
    "\\mathbb{P}\\left(Y \\in \\cdot \\mid Y \\in \\mathrm{S}_{\\mu^{(t)}, \\mathbf{i}}\\right)\n",
    "$$\n",
    "\n",
    "on donne juste le i, numéro de la strat sur laquelle on veut tirer "
   ]
  },
  {
   "cell_type": "code",
   "execution_count": 209,
   "metadata": {},
   "outputs": [],
   "source": [
    "def tirer_y_strat_nu(mu, i, mean, Sigma, K, S):\n",
    "    \"\"\"\n",
    "\n",
    "    Args : \n",
    "        - mu : l'orientation de la strat \n",
    "        - i : indice appartenant à 0....I-1 !! et pas 1,....I ATTENTION \n",
    "        - mean : moyenne de la v.a. Y \n",
    "        - sigma : variance de la v.a. Y \n",
    "        - S : nos strats \n",
    "    \n",
    "    Outputs : tire K variables suivant l'indice i pour la strat donnée \"\"\"\n",
    "\n",
    "    return  stratified_sampling_linear_projection(mean, Sigma, mu, K, tirer_K_nb(S[i][0],S[i][1], K))"
   ]
  },
  {
   "cell_type": "markdown",
   "metadata": {},
   "source": [
    "# Calcul de Si, la strat Si"
   ]
  },
  {
   "cell_type": "markdown",
   "metadata": {},
   "source": [
    "$$\n",
    "\\mathrm{S}_{\\mathbf{i}} \\stackrel{\\text { def }}{=} \\prod_{k=1}^m\\left(G_k^{-1}\\left(\\frac{i_k-1}{I}\\right), G_k^{-1}\\left(\\frac{i_k}{I}\\right)\\right]\n",
    "$$\n",
    "On calcul Si, et on va tirer dedans. "
   ]
  },
  {
   "cell_type": "code",
   "execution_count": 210,
   "metadata": {},
   "outputs": [],
   "source": [
    "def strats_Si(I):\n",
    "    # Calcul de Si pour chaque ik de 1 à I\n",
    "    results = [(norm.ppf((ik - 1) / I), norm.ppf(ik / I)) for ik in range(1, I + 1)]\n",
    "    return results\n",
    "\n",
    "def p_i_mu(I):\n",
    "    return 1/I\n",
    "\n",
    "I = 100\n",
    "strats = strats_Si(I)"
   ]
  },
  {
   "cell_type": "markdown",
   "metadata": {},
   "source": [
    "# Tirer un point suivant une strat \n",
    "\n",
    "$$\n",
    "\\mathbb{P}\\left(Y \\in \\cdot \\mid Y \\in \\mathrm{S}_{\\mu^{(t)}, \\mathbf{i}}\\right)\n",
    "$$"
   ]
  },
  {
   "cell_type": "code",
   "execution_count": 214,
   "metadata": {},
   "outputs": [
    {
     "data": {
      "text/plain": [
       "array([[0.00616716, 0.01540158, 2.95186818],\n",
       "       [0.33255626, 0.07028231, 2.62180763]])"
      ]
     },
     "execution_count": 214,
     "metadata": {},
     "output_type": "execute_result"
    }
   ],
   "source": [
    "i = 10\n",
    "\n",
    "tirer_y_strat_nu(v, i, mean, Sigma, K, strats) # le nombre en dur est le numero de la strat ici de 0 à 99 car j'ai fais avec 100 levels dans l'exemple "
   ]
  },
  {
   "cell_type": "markdown",
   "metadata": {},
   "source": [
    "# Choix du vecteur d'allocation \n",
    "\n",
    "$$\n",
    "\\sigma_{\\mathbf{i}}^2(\\mu) \\stackrel{\\text { def }}{=} \\mathrm{E}\\left[\\phi^2(Y) \\mid \\mu^T Y \\in \\mathrm{S}_{\\mathbf{i}}\\right]-\\left(\\mathrm{E}\\left[\\phi(Y) \\mid \\mu^T Y \\in \\mathrm{S}_{\\mathbf{i}}\\right]\\right)^2\n",
    "$$\n",
    "\n",
    "Puis cela permet de calculer : \n",
    "\n",
    "$$\n",
    "q_{\\mathbf{i}}^{\\star}(\\mu) \\stackrel{\\text { def }}{=} \\frac{p_{\\mathbf{i}}(\\mu) \\sigma_{\\mathbf{i}}(\\mu)}{\\sum_{\\mathbf{j} \\in \\mathcal{I}} p_{\\mathbf{j}}(\\mu) \\sigma_{\\mathbf{j}}(\\mu)} .\n",
    "$$"
   ]
  },
  {
   "cell_type": "code",
   "execution_count": 203,
   "metadata": {},
   "outputs": [],
   "source": [
    "# fonctions payoff arbitraires \n",
    "\n",
    "def phi(x):\n",
    "    return x "
   ]
  },
  {
   "cell_type": "markdown",
   "metadata": {},
   "source": [
    "calcul du sigma i tel que défini ci-dessus. "
   ]
  },
  {
   "cell_type": "code",
   "execution_count": 204,
   "metadata": {},
   "outputs": [],
   "source": [
    "def sigma_i(v, i, mu, Sigma, K, results):\n",
    "    #calcul simplement le sigma_i que l'on utilise. Sachant que le pi vaut 1/I \n",
    "    return np.sqrt(np.mean(phi(tirer_y_strat_nu(v,i,mu,Sigma,K,results))**2)- np.mean(phi(tirer_y_strat_nu(v,i,mu,Sigma,K,results)))**2)"
   ]
  },
  {
   "cell_type": "code",
   "execution_count": 205,
   "metadata": {},
   "outputs": [
    {
     "ename": "TypeError",
     "evalue": "object of type 'int' has no len()",
     "output_type": "error",
     "traceback": [
      "\u001b[0;31m---------------------------------------------------------------------------\u001b[0m",
      "\u001b[0;31mTypeError\u001b[0m                                 Traceback (most recent call last)",
      "Cell \u001b[0;32mIn [205], line 1\u001b[0m\n\u001b[0;32m----> 1\u001b[0m \u001b[43msigma_i\u001b[49m\u001b[43m(\u001b[49m\u001b[43mv\u001b[49m\u001b[43m,\u001b[49m\u001b[43m \u001b[49m\u001b[38;5;241;43m0\u001b[39;49m\u001b[43m,\u001b[49m\u001b[43m \u001b[49m\u001b[43mi\u001b[49m\u001b[43m,\u001b[49m\u001b[43m \u001b[49m\u001b[43mSigma\u001b[49m\u001b[43m,\u001b[49m\u001b[43m \u001b[49m\u001b[38;5;241;43m2000\u001b[39;49m\u001b[43m,\u001b[49m\u001b[43m \u001b[49m\u001b[43mstrats\u001b[49m\u001b[43m)\u001b[49m\n",
      "Cell \u001b[0;32mIn [204], line 3\u001b[0m, in \u001b[0;36msigma_i\u001b[0;34m(v, i, mu, Sigma, K, results)\u001b[0m\n\u001b[1;32m      1\u001b[0m \u001b[38;5;28;01mdef\u001b[39;00m \u001b[38;5;21msigma_i\u001b[39m(v, i, mu, Sigma, K, results):\n\u001b[1;32m      2\u001b[0m     \u001b[38;5;66;03m#calcul simplement le sigma_i que l'on utilise. Sachant que le pi vaut 1/I \u001b[39;00m\n\u001b[0;32m----> 3\u001b[0m     \u001b[38;5;28;01mreturn\u001b[39;00m np\u001b[38;5;241m.\u001b[39msqrt(np\u001b[38;5;241m.\u001b[39mmean(phi(\u001b[43mtirer_y_strat_nu\u001b[49m\u001b[43m(\u001b[49m\u001b[43mv\u001b[49m\u001b[43m,\u001b[49m\u001b[43mi\u001b[49m\u001b[43m,\u001b[49m\u001b[43mmu\u001b[49m\u001b[43m,\u001b[49m\u001b[43mSigma\u001b[49m\u001b[43m,\u001b[49m\u001b[43mK\u001b[49m\u001b[43m,\u001b[49m\u001b[43mresults\u001b[49m\u001b[43m)\u001b[49m)\u001b[38;5;241m*\u001b[39m\u001b[38;5;241m*\u001b[39m\u001b[38;5;241m2\u001b[39m)\u001b[38;5;241m-\u001b[39m np\u001b[38;5;241m.\u001b[39mmean(phi(tirer_y_strat_nu(v,i,mu,Sigma,K,results)))\u001b[38;5;241m*\u001b[39m\u001b[38;5;241m*\u001b[39m\u001b[38;5;241m2\u001b[39m)\n",
      "Cell \u001b[0;32mIn [200], line 13\u001b[0m, in \u001b[0;36mtirer_y_strat_nu\u001b[0;34m(v, i, mean, Sigma, K, S)\u001b[0m\n\u001b[1;32m      1\u001b[0m \u001b[38;5;28;01mdef\u001b[39;00m \u001b[38;5;21mtirer_y_strat_nu\u001b[39m(v, i, mean, Sigma, K, S):\n\u001b[1;32m      2\u001b[0m \u001b[38;5;250m    \u001b[39m\u001b[38;5;124;03m\"\"\"\u001b[39;00m\n\u001b[1;32m      3\u001b[0m \n\u001b[1;32m      4\u001b[0m \u001b[38;5;124;03m    Args : \u001b[39;00m\n\u001b[0;32m   (...)\u001b[0m\n\u001b[1;32m     10\u001b[0m \u001b[38;5;124;03m    \u001b[39;00m\n\u001b[1;32m     11\u001b[0m \u001b[38;5;124;03m    Outputs : tire K variables suivant l'indice i pour la strat donnée \"\"\"\u001b[39;00m\n\u001b[0;32m---> 13\u001b[0m     \u001b[38;5;28;01mreturn\u001b[39;00m  \u001b[43mstratified_sampling_linear_projection\u001b[49m\u001b[43m(\u001b[49m\u001b[43mmean\u001b[49m\u001b[43m,\u001b[49m\u001b[43m \u001b[49m\u001b[43mSigma\u001b[49m\u001b[43m,\u001b[49m\u001b[43m \u001b[49m\u001b[43mv\u001b[49m\u001b[43m,\u001b[49m\u001b[43m \u001b[49m\u001b[43mK\u001b[49m\u001b[43m,\u001b[49m\u001b[43mtirer_K_nb\u001b[49m\u001b[43m(\u001b[49m\u001b[43mS\u001b[49m\u001b[43m[\u001b[49m\u001b[43mi\u001b[49m\u001b[43m]\u001b[49m\u001b[43m[\u001b[49m\u001b[38;5;241;43m0\u001b[39;49m\u001b[43m]\u001b[49m\u001b[43m,\u001b[49m\u001b[43mS\u001b[49m\u001b[43m[\u001b[49m\u001b[43mi\u001b[49m\u001b[43m]\u001b[49m\u001b[43m[\u001b[49m\u001b[38;5;241;43m1\u001b[39;49m\u001b[43m]\u001b[49m\u001b[43m,\u001b[49m\u001b[43mK\u001b[49m\u001b[43m)\u001b[49m\u001b[43m)\u001b[49m\n",
      "Cell \u001b[0;32mIn [187], line 15\u001b[0m, in \u001b[0;36mstratified_sampling_linear_projection\u001b[0;34m(mean, Sigma, v, K, x)\u001b[0m\n\u001b[1;32m      1\u001b[0m \u001b[38;5;28;01mdef\u001b[39;00m \u001b[38;5;21mstratified_sampling_linear_projection\u001b[39m(mean, Sigma, v, K, x\u001b[38;5;241m=\u001b[39m\u001b[38;5;28;01mNone\u001b[39;00m):\n\u001b[1;32m      2\u001b[0m \u001b[38;5;250m    \u001b[39m\u001b[38;5;124;03m\"\"\"\u001b[39;00m\n\u001b[1;32m      3\u001b[0m \u001b[38;5;124;03m    Generates K samples from N(0, Sigma) stratified along the direction determined by v.\u001b[39;00m\n\u001b[1;32m      4\u001b[0m \u001b[38;5;124;03m    \u001b[39;00m\n\u001b[0;32m   (...)\u001b[0m\n\u001b[1;32m     13\u001b[0m \u001b[38;5;124;03m    - samples (2D array): The generated stratified samples. (K, de N(0,sigma), stratifié sur la direction donnée par v)\u001b[39;00m\n\u001b[1;32m     14\u001b[0m \u001b[38;5;124;03m    \"\"\"\u001b[39;00m\n\u001b[0;32m---> 15\u001b[0m     d \u001b[38;5;241m=\u001b[39m \u001b[38;5;28;43mlen\u001b[39;49m\u001b[43m(\u001b[49m\u001b[43mmean\u001b[49m\u001b[43m)\u001b[49m  \u001b[38;5;66;03m# Dimension of the normal distribution\u001b[39;00m\n\u001b[1;32m     16\u001b[0m     \u001b[38;5;66;03m# Normalize v so that v^T Sigma v = 1\u001b[39;00m\n\u001b[1;32m     17\u001b[0m     v \u001b[38;5;241m=\u001b[39m v \u001b[38;5;241m/\u001b[39m np\u001b[38;5;241m.\u001b[39msqrt(v\u001b[38;5;241m.\u001b[39mT \u001b[38;5;241m@\u001b[39m Sigma \u001b[38;5;241m@\u001b[39m v)\n",
      "\u001b[0;31mTypeError\u001b[0m: object of type 'int' has no len()"
     ]
    }
   ],
   "source": [
    "sigma_i(v, 0, i, Sigma, 2000, strats)"
   ]
  },
  {
   "cell_type": "markdown",
   "metadata": {},
   "source": [
    "calcul du vecteur d'allocation optimale à l'instant initial. "
   ]
  },
  {
   "cell_type": "code",
   "execution_count": 15,
   "metadata": {},
   "outputs": [],
   "source": [
    "def calculate_q_star(mu, I, v, Sigma, K, results):\n",
    "    # Initialisation du vecteur des sigmas\n",
    "    sigma_values = np.zeros(I)\n",
    "    \n",
    "    # Calcul de chaque sigma_i pour un mu donné\n",
    "    for i in range(I):\n",
    "        sigma_values[i] = sigma_i(v, i, mu, Sigma, K, results)\n",
    "    \n",
    "    # Puisque p_i(mu) = 1/I pour tous i, on peut simplifier la somme\n",
    "    sigma_p_sum = np.sum(sigma_values) / I  # C'est la somme de tous les sigma_i / I\n",
    "    \n",
    "    # Calcul de q_i*(mu) pour chaque i\n",
    "    q_star = (sigma_values / sigma_p_sum) / I\n",
    "    \n",
    "    return q_star\n"
   ]
  },
  {
   "cell_type": "code",
   "execution_count": 16,
   "metadata": {},
   "outputs": [],
   "source": [
    "qi = calculate_q_star(mu, 100, v, Sigma, 2000, results) #les allocations optimales qi "
   ]
  },
  {
   "cell_type": "markdown",
   "metadata": {},
   "source": [
    "Calcul des quantites Mi à allouer. "
   ]
  },
  {
   "cell_type": "code",
   "execution_count": 17,
   "metadata": {},
   "outputs": [],
   "source": [
    "def calculate_M(q, M):\n",
    "    # Calculer la somme cumulative des qj\n",
    "    cumulative_sums = [0] * len(q)\n",
    "    cumulative_sums[0] = q[0]\n",
    "    for i in range(1, len(q)):\n",
    "        cumulative_sums[i] = cumulative_sums[i - 1] + q[i]\n",
    "\n",
    "    # Calculer Mi pour chaque i\n",
    "    Mi = []\n",
    "    for i in range(len(q)):\n",
    "        if i == 0:\n",
    "            sum_j_less_i = 0  # Pas de j < i pour i = 0\n",
    "        else:\n",
    "            sum_j_less_i = cumulative_sums[i - 1]\n",
    "\n",
    "        sum_j_less_equal_i = cumulative_sums[i]\n",
    "        Mi.append(M * (sum_j_less_equal_i - sum_j_less_i))\n",
    "\n",
    "    return Mi\n"
   ]
  },
  {
   "cell_type": "code",
   "execution_count": 386,
   "metadata": {},
   "outputs": [],
   "source": [
    "M_i = calculate_M(qi,1000) #donne le nb de simu par strat. "
   ]
  },
  {
   "cell_type": "code",
   "execution_count": 218,
   "metadata": {},
   "outputs": [],
   "source": [
    "def initialisation(M, mean, I, mu, Sigma, K=2000):\n",
    "    \"\"\"Args : \n",
    "        - M : nb de simu total pour le sample \n",
    "        - mean, Sigma : moyenne et variance de Y\n",
    "        - mu : direction de stratifaction \n",
    "        - K : nb de simu juste pour calculer les grandeurs intermediares tq sigma etc... \"\"\"\n",
    "    #renvoie ce qu'il faut pour étape 2 : à savoir les Mi, les pi, et la direction mu de stratifaction \n",
    "    results = strats_Si(I) #les strats \n",
    "    qi = calculate_q_star(mean, I, v, Sigma, K, results)\n",
    "    \n",
    "    return calculate_M(qi, M), np.array(I*[1/I]), mu"
   ]
  },
  {
   "cell_type": "code",
   "execution_count": 22,
   "metadata": {},
   "outputs": [],
   "source": [
    "def create_positive_semi_definite_matrix(dim):\n",
    "    # Générer une matrice aléatoire\n",
    "    A = np.random.randn(dim, dim)\n",
    "    \n",
    "    # Utiliser le produit de A et sa transposée pour obtenir une matrice semi-définie positive\n",
    "    B = np.dot(A, A.T)\n",
    "    \n",
    "    # Normaliser les diagonales pour que la diagonale soit 1\n",
    "    D = np.sqrt(np.diag(B))\n",
    "    B = B / D\n",
    "    B = B / D[:, np.newaxis]\n",
    "    \n",
    "    return B\n",
    "\n",
    "# Créer une matrice de corrélation semi-définie positive de dimension 5x5\n",
    "dim = 5\n",
    "correlation_matrix = create_positive_semi_definite_matrix(dim)\n"
   ]
  },
  {
   "cell_type": "markdown",
   "metadata": {},
   "source": [
    "# ALGO"
   ]
  },
  {
   "cell_type": "code",
   "execution_count": 426,
   "metadata": {},
   "outputs": [],
   "source": [
    "def compute_m(q, M):\n",
    "\n",
    "    I = len(q)\n",
    "    m = np.zeros(I)\n",
    "    cumulative_sum = np.cumsum(q)\n",
    "\n",
    "    m[0] = int(M*cumulative_sum[0])\n",
    "\n",
    "    for i in range(1, I):\n",
    "\n",
    "        m[i] = int(M*cumulative_sum[i]) - int(M*cumulative_sum[i-1]) \n",
    "    \n",
    "    return np.array(m, dtype=int)"
   ]
  },
  {
   "cell_type": "code",
   "execution_count": 538,
   "metadata": {},
   "outputs": [],
   "source": [
    "M = 10000\n",
    "I = 100\n",
    "d = 400\n",
    "phi = lambda x : np.sum(x)\n",
    "phi2 = lambda x: phi(x)**2\n",
    "\n",
    "mean = np.zeros(d)\n",
    "cov = create_positive_semi_definite_matrix(d)\n",
    "strats = strats_Si(I)\n",
    "\n",
    "\n",
    "mu0 = np.ones(d)/np.sqrt(d)\n",
    "p0 = np.ones(I)/I\n",
    "\n",
    "sigma0 = np.zeros(I)\n",
    "K = 1000\n",
    "for i in range(I):\n",
    "\n",
    "    samples = tirer_y_strat_nu(mu0, i, mean, cov, K, strats)\n",
    "    sigma0[i] = np.sqrt(np.mean(np.apply_along_axis(phi2, 1, samples))\n",
    "                        - np.mean(np.apply_along_axis(phi, 1, samples))**2)\n",
    "\n",
    "q0 = (p0 * sigma0)/np.sum(p0 * sigma0)\n",
    "m0 = compute_m(q0, M)"
   ]
  },
  {
   "cell_type": "code",
   "execution_count": 468,
   "metadata": {},
   "outputs": [],
   "source": [
    "def get_nu_and_grad_nu_estimates(mu, \n",
    "                                 p, \n",
    "                                 I, \n",
    "                                 d, \n",
    "                                 phi, \n",
    "                                 mean, \n",
    "                                 cov, \n",
    "                                 strats,\n",
    "                                 m):\n",
    "\n",
    "    phi2 = lambda x: phi(x)**2\n",
    "\n",
    "    nu_f_phi = np.zeros((I))\n",
    "    nu_f_phi2 = np.zeros((I))\n",
    "\n",
    "    grad_nu_f = np.zeros((I, d))\n",
    "    grad_nu_f_phi = np.zeros((I, d))\n",
    "    grad_nu_f_phi2 = np.zeros((I, d))\n",
    "\n",
    "    for i in range(I):\n",
    "\n",
    "        samples = tirer_y_strat_nu(mu, i, mean, cov, m[i], strats)\n",
    "\n",
    "        nu_f_phi[i] = p[i]*np.mean(np.apply_along_axis(phi, 1, samples))\n",
    "        nu_f_phi2[i] = p[i]*np.mean(np.apply_along_axis(phi2, 1, samples))\n",
    "\n",
    "        grad_nu_f[i] = - np.mean(samples, axis=0)/np.abs(mu)\n",
    "        grad_nu_f_phi[i] = - np.mean(samples*np.apply_along_axis(phi, 1, samples)[:, np.newaxis]/np.abs(mu), axis=0)\n",
    "        grad_nu_f_phi2[i] = - np.mean(samples*np.apply_along_axis(phi2, 1, samples)[:, np.newaxis]/np.abs(mu), axis=0)\n",
    "    \n",
    "\n",
    "    return nu_f_phi, nu_f_phi2, grad_nu_f, grad_nu_f_phi, grad_nu_f_phi2"
   ]
  },
  {
   "cell_type": "code",
   "execution_count": 469,
   "metadata": {},
   "outputs": [],
   "source": [
    "nu_f_phi, nu_f_phi2, grad_nu_f, grad_nu_f_phi, grad_nu_f_phi2 = get_nu_and_grad_nu_estimates(mu0, p0, I, d, phi, mean, cov, strats, m0)"
   ]
  },
  {
   "cell_type": "code",
   "execution_count": 458,
   "metadata": {},
   "outputs": [],
   "source": [
    "def get_p_sigma(nu_f_phi, nu_f_phi2):\n",
    "\n",
    "    I = len(nu_f_phi)\n",
    "    p = np.ones(I)/I\n",
    "    sigma = np.sqrt(nu_f_phi2/p\n",
    "                      - ((nu_f_phi)/p)**2)\n",
    "    \n",
    "    return p, sigma"
   ]
  },
  {
   "cell_type": "code",
   "execution_count": 459,
   "metadata": {},
   "outputs": [],
   "source": [
    "p1, sigma1 = get_p_sigma(nu_f_phi, nu_f_phi2)"
   ]
  },
  {
   "cell_type": "code",
   "execution_count": 462,
   "metadata": {},
   "outputs": [],
   "source": [
    "def get_grad_V(nu_f_phi, \n",
    "               nu_f_phi2, \n",
    "               grad_nu_f, \n",
    "               grad_nu_f_phi, \n",
    "               grad_nu_f_phi2, \n",
    "               p,\n",
    "               sigma):\n",
    "    \n",
    "    I = len(nu_f_phi)\n",
    "    grad_V = 0\n",
    "\n",
    "    for i in range(I):\n",
    "\n",
    "        if p[i]*sigma[i] != 0:\n",
    "\n",
    "            term_to_add = (grad_nu_f[i] * nu_f_phi2[i]\n",
    "                            + p[i] * grad_nu_f_phi2[i]\n",
    "                            - 2 * nu_f_phi[i] * grad_nu_f_phi[i]) / (2 * p[i] * sigma[i])\n",
    "            \n",
    "            grad_V += term_to_add\n",
    "\n",
    "    return grad_V"
   ]
  },
  {
   "cell_type": "code",
   "execution_count": 463,
   "metadata": {},
   "outputs": [],
   "source": [
    "grad_V = get_grad_V(nu_f_phi, \n",
    "                   nu_f_phi2, \n",
    "                   grad_nu_f, \n",
    "                   grad_nu_f_phi, \n",
    "                   grad_nu_f_phi2, \n",
    "                   p1,\n",
    "                   sigma1)"
   ]
  },
  {
   "cell_type": "code",
   "execution_count": 464,
   "metadata": {},
   "outputs": [
    {
     "data": {
      "text/plain": [
       "array([-26.62756404, -18.73592379, -27.14201804])"
      ]
     },
     "execution_count": 464,
     "metadata": {},
     "output_type": "execute_result"
    }
   ],
   "source": [
    "grad_V"
   ]
  },
  {
   "cell_type": "code",
   "execution_count": 465,
   "metadata": {},
   "outputs": [],
   "source": [
    "def update_mu(mu,\n",
    "              gamma, \n",
    "              grad_V):\n",
    "\n",
    "    mu_hat = mu - gamma * grad_V\n",
    "\n",
    "    # Perform singular value decomposition\n",
    "    U, _, _ = np.linalg.svd(mu_hat[:, np.newaxis])\n",
    "\n",
    "    # Define mu_(t+1) as the orthogonal matrix found by keeping the m left singular vectors\n",
    "    mu_t_plus_1 = U[:, :1].T[0]\n",
    "\n",
    "    return mu_t_plus_1"
   ]
  },
  {
   "cell_type": "code",
   "execution_count": 466,
   "metadata": {},
   "outputs": [],
   "source": [
    "mu1 = update_mu(mu0, 0.1, grad_V)"
   ]
  },
  {
   "cell_type": "code",
   "execution_count": 467,
   "metadata": {},
   "outputs": [
    {
     "data": {
      "text/plain": [
       "array([0.61967251, 0.46874437, 0.62951147])"
      ]
     },
     "execution_count": 467,
     "metadata": {},
     "output_type": "execute_result"
    }
   ],
   "source": [
    "mu1"
   ]
  },
  {
   "cell_type": "code",
   "execution_count": 533,
   "metadata": {},
   "outputs": [],
   "source": [
    "class Algorithm():\n",
    "\n",
    "    def __init__(self,\n",
    "                 M,\n",
    "                 I,\n",
    "                 d,\n",
    "                 phi,\n",
    "                 mean,\n",
    "                 K: int=1000):\n",
    "\n",
    "        self.M = M\n",
    "        self.I = I\n",
    "        self.d = d\n",
    "        self.phi = phi\n",
    "        self.phi2 = lambda x: phi(x)**2\n",
    "\n",
    "        self.mean = mean\n",
    "        self.cov = cov\n",
    "        self.strats = strats_Si(I)\n",
    "\n",
    "\n",
    "        self.mu = np.ones(d)/np.sqrt(d)\n",
    "        self.p = np.ones(I)/I\n",
    "\n",
    "        sigma0 = np.zeros(I)\n",
    "        for i in range(I):\n",
    "            samples = tirer_y_strat_nu(mu0, i, mean, cov, K, strats)\n",
    "            sigma0[i] = np.sqrt(np.mean(np.apply_along_axis(phi2, 1, samples))\n",
    "                                - np.mean(np.apply_along_axis(phi, 1, samples))**2)\n",
    "        self.sigma = sigma0\n",
    "        \n",
    "        self.q = (p0 * sigma0)/np.sum(p0 * sigma0)\n",
    "        self.m = compute_m(q0, M)\n",
    "\n",
    "    \n",
    "    def compute_nu_and_grad_nu_estimates(self):\n",
    "\n",
    "        nu_f_phi = np.zeros((self.I))\n",
    "        nu_f_phi2 = np.zeros((self.I))\n",
    "\n",
    "        grad_nu_f = np.zeros((self.I, self.d))\n",
    "        grad_nu_f_phi = np.zeros((self.I, self.d))\n",
    "        grad_nu_f_phi2 = np.zeros((self.I, self.d))\n",
    "\n",
    "        for i in range(self.I):\n",
    "\n",
    "            samples = tirer_y_strat_nu(self.mu, i, self.mean, self.cov, self.m[i], self.strats)\n",
    "\n",
    "            nu_f_phi[i] = self.p[i]*np.mean(np.apply_along_axis(self.phi, 1, samples))\n",
    "            nu_f_phi2[i] = self.p[i]*np.mean(np.apply_along_axis(self.phi2, 1, samples))\n",
    "\n",
    "            grad_nu_f[i] = - np.mean(samples, axis=0)/np.abs(self.mu)\n",
    "            grad_nu_f_phi[i] = - np.mean(samples*np.apply_along_axis(self.phi, 1, samples)[:, np.newaxis]/np.abs(self.mu), axis=0)\n",
    "            grad_nu_f_phi2[i] = - np.mean(samples*np.apply_along_axis(self.phi2, 1, samples)[:, np.newaxis]/np.abs(self.mu), axis=0)\n",
    "        \n",
    "        return nu_f_phi, nu_f_phi2, grad_nu_f, grad_nu_f_phi, grad_nu_f_phi2\n",
    "\n",
    "\n",
    "    def compute_grad_V_estimate(self, nu_f_phi, nu_f_phi2, grad_nu_f, \n",
    "                                grad_nu_f_phi, grad_nu_f_phi2):\n",
    "        \n",
    "        grad_V = 0\n",
    "\n",
    "        for i in range(self.I):\n",
    "\n",
    "            if self.p[i]*self.sigma[i] != 0:\n",
    "\n",
    "                term_to_add = (grad_nu_f[i] * nu_f_phi2[i]\n",
    "                                + self.p[i] * grad_nu_f_phi2[i]\n",
    "                                - 2 * nu_f_phi[i] * grad_nu_f_phi[i]) / (2 * self.p[i] * self.sigma[i])\n",
    "                \n",
    "                grad_V += term_to_add\n",
    "\n",
    "        return grad_V\n",
    "    \n",
    "\n",
    "    def update_mu_sigma_q_p(self, gamma):\n",
    "\n",
    "        (nu_f_phi, nu_f_phi2, grad_nu_f, \n",
    "         grad_nu_f_phi, grad_nu_f_phi2) = self.compute_nu_and_grad_nu_estimates()\n",
    "        \n",
    "        grad_V = self.compute_grad_V_estimate(nu_f_phi, nu_f_phi2, grad_nu_f, \n",
    "                                               grad_nu_f_phi, grad_nu_f_phi2)\n",
    "\n",
    "\n",
    "        # Update mu\n",
    "        mu_tilde = self.mu - gamma * grad_V\n",
    "        U, _, _ = np.linalg.svd(mu_tilde[:, np.newaxis])\n",
    "        self.mu = U[:, :1].T[0]\n",
    "\n",
    "        # Update sigma \n",
    "        self.sigma = np.sqrt(nu_f_phi2/self.p\n",
    "                        - ((nu_f_phi)/self.p)**2)\n",
    "        \n",
    "        # Update q\n",
    "        self.q = (self.p * self.sigma)/np.sum(self.p * self.sigma)\n",
    "        \n",
    "        # Update p\n",
    "        self.p = np.ones(self.I)/self.I\n",
    "\n",
    "        # Update m\n",
    "        self.m = compute_m(self.q, self.M)\n",
    "\n",
    "    \n",
    "    def compute_V(self):\n",
    "\n",
    "        return np.sum(self.p * self.sigma)\n",
    "\n",
    "    def compute_algorithm_iteration(self,\n",
    "                                    N: int=1000,\n",
    "                                    callback: bool=True):\n",
    "        \n",
    "        if callback:\n",
    "\n",
    "            V = np.zeros(N+1)\n",
    "            V[0] = self.compute_V()\n",
    "            mus = [self.mu]\n",
    "\n",
    "        for n in range(1, N+1):\n",
    "            \n",
    "            gamma = 1 / n \n",
    "\n",
    "            self.update_mu_sigma_q_p(gamma)\n",
    "            \n",
    "            if callback:\n",
    "                \n",
    "                V[n] = self.compute_V()\n",
    "                mus.append(self.mu)\n",
    "        \n",
    "        return V, mus"
   ]
  },
  {
   "cell_type": "code",
   "execution_count": 539,
   "metadata": {},
   "outputs": [],
   "source": [
    "algo = Algorithm(M,\n",
    "                 I,\n",
    "                 d,\n",
    "                 phi,\n",
    "                 mean)"
   ]
  },
  {
   "cell_type": "code",
   "execution_count": 542,
   "metadata": {},
   "outputs": [],
   "source": [
    "V, mus = algo.compute_algorithm_iteration(N = 50)"
   ]
  },
  {
   "cell_type": "code",
   "execution_count": 541,
   "metadata": {},
   "outputs": [
    {
     "data": {
      "text/plain": [
       "array([ 0.65046018,  0.66877845, 17.64313195, 19.5813002 , 19.54948059,\n",
       "       19.42751408, 19.38192633, 19.33721445, 19.58660231, 19.32458687,\n",
       "       19.4788846 ])"
      ]
     },
     "execution_count": 541,
     "metadata": {},
     "output_type": "execute_result"
    }
   ],
   "source": [
    "V"
   ]
  },
  {
   "cell_type": "code",
   "execution_count": 529,
   "metadata": {},
   "outputs": [
    {
     "data": {
      "text/plain": [
       "array([469,  97,  98,  94,  91,  92,  84,  87,  92,  96,  92, 103, 102,\n",
       "        95,  96,  77, 103,  89, 103,  89,  87,  94,  82,  93, 103,  92,\n",
       "        96,  96,  87,  99,  89,  95,  88,  95,  92, 106,  94,  93,  92,\n",
       "       104,  90,  85,  89,  87,  82,  98,  96,  85,  98, 100,  89,  93,\n",
       "        93,  99, 105,  99,  85, 102,  93,  97,  93,  92,  92,  93,  87,\n",
       "        91, 103,  90,  94, 102,  90,  97,  88,  88,  98,  94, 102,  99,\n",
       "        85,  93,  92, 103,  86,  84,  94,  77,  90,  94,  94,  97, 102,\n",
       "        94,  90,  93,  92,  92, 110, 106, 101, 347])"
      ]
     },
     "execution_count": 529,
     "metadata": {},
     "output_type": "execute_result"
    }
   ],
   "source": [
    "algo.m"
   ]
  },
  {
   "cell_type": "code",
   "execution_count": 513,
   "metadata": {},
   "outputs": [],
   "source": [
    "import matplotlib.pyplot as plt"
   ]
  },
  {
   "cell_type": "code",
   "execution_count": 514,
   "metadata": {},
   "outputs": [
    {
     "data": {
      "text/plain": [
       "[<matplotlib.lines.Line2D at 0x131558490>]"
      ]
     },
     "execution_count": 514,
     "metadata": {},
     "output_type": "execute_result"
    },
    {
     "data": {
      "image/png": "[encoded data removed]",
      "text/plain": [
       "<Figure size 640x480 with 1 Axes>"
      ]
     },
     "metadata": {},
     "output_type": "display_data"
    }
   ],
   "source": [
    "plt.plot(V)"
   ]
  },
  {
   "cell_type": "code",
   "execution_count": null,
   "metadata": {},
   "outputs": [],
   "source": []
  }
 ],
 "metadata": {
  "kernelspec": {
   "display_name": "skfolio",
   "language": "python",
   "name": "python3"
  },
  "language_info": {
   "codemirror_mode": {
    "name": "ipython",
    "version": 3
   },
   "file_extension": ".py",
   "mimetype": "text/x-python",
   "name": "python",
   "nbconvert_exporter": "python",
   "pygments_lexer": "ipython3",
   "version": "3.10.0"
  }
 },
 "nbformat": 4,
 "nbformat_minor": 2
}
