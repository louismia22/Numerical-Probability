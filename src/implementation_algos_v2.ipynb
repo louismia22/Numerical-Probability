{
 "cells": [
  {
   "cell_type": "code",
   "execution_count": 2,
   "metadata": {},
   "outputs": [],
   "source": [
    "import numpy as np \n",
    "from scipy.stats import norm\n",
    "from scipy.linalg import cholesky"
   ]
  },
  {
   "cell_type": "markdown",
   "metadata": {},
   "source": [
    "$$\n",
    "\\mathbb{P}\\left(Y \\in \\cdot \\mid Y \\in \\mathrm{S}_{\\mu^{(t)}, \\mathbf{i}}\\right) \\text { et } \\mathbb{P}\\left(Y \\in \\cdot \\mid\\left[\\mu^{(t)}\\right]^T Y=s\\right)\n",
    "$$\n",
    "Pour le premier cas : on définit la strat, on tire un point au hasard dans la strat, et ensuite on échantillonne conditionnellement à ce point !\n",
    "On le réécrit : \n",
    "$$\n",
    "X=v^{\\top} \\xi \\sim N\\left(0, v^{\\top} \\Sigma v\\right)=N(0,1)\n",
    "$$\n",
    "On a la distrbution conditionnelle : \n",
    "\n",
    "$$\n",
    "(\\xi \\mid X=x) \\sim N\\left(\\frac{\\Sigma v}{v^{\\top} \\Sigma v} x, \\Sigma-\\frac{\\Sigma v v^{\\top} \\Sigma}{v^{\\top} \\Sigma v}\\right)=N\\left(\\Sigma v x, \\Sigma-\\Sigma v v^{\\top} \\Sigma\\right)\n",
    "$$\n",
    "On utilise le tips ci-dessous pour pouvoir simuler (décomposition du terme en variance)\n",
    "\n",
    "$$\n",
    "\\begin{aligned}\n",
    "& \\left(A-\\Sigma v v^{\\top} A\\right)\\left(A-\\Sigma v v^{\\top} A\\right)^{\\top} \\\\\n",
    "& \\quad=A A^{\\top}-A A^{\\top} v v^{\\top} \\Sigma-\\Sigma v v^{\\top} A A^{\\top}+\\Sigma v v^{\\top} \\Sigma v v^{\\top} \\Sigma \\\\\n",
    "& \\quad=\\Sigma-\\Sigma v v^{\\top} \\Sigma\n",
    "\\end{aligned}\n",
    "$$\n",
    "\n",
    "Suivant que l'on veuille sample avec ou non une condition sur la valeur de X, on le spécifie dans la fonction ci-dessous.\n",
    "\n",
    "$$\n",
    "\\begin{aligned}\n",
    "& \\text { for } i=1, \\ldots, K \\\\\n",
    "& \\quad \\text { generate } U \\sim \\operatorname{Unif}[0,1] \\\\\n",
    "& \\quad V \\leftarrow(i-1+U) / K \\\\\n",
    "& \\quad X \\leftarrow \\Phi^{-1}(V) \\\\\n",
    "& \\quad \\text { generate } Z \\sim N(0, I) \\text { in } \\Re^d \\\\\n",
    "& \\quad \\xi \\leftarrow \\Sigma v X+\\left(A-\\Sigma v v^{\\top} A\\right) Z\n",
    "\\end{aligned}\n",
    "$$"
   ]
  },
  {
   "cell_type": "code",
   "execution_count": 3,
   "metadata": {},
   "outputs": [],
   "source": [
    "def stratified_sampling_linear_projection(mu, Sigma, v, K, x=None):\n",
    "    \"\"\"\n",
    "    Generates K samples from N(0, Sigma) stratified along the direction determined by v.\n",
    "    \n",
    "    Args:\n",
    "    - mu (array): The mean vector of the distribution.\n",
    "    - Sigma (2D array): The covariance matrix of the distribution.\n",
    "    - v (array): The vector along which stratification is done.\n",
    "    - K (int): The number of stratified samples to generate.\n",
    "    - x (optionnal) :  si on donne une valeur pour x alors c'est qu'on conditionne à une valeur particulière de x. Sinon on sample sur tout la strat Si. Taille K\n",
    "    \n",
    "    Returns:\n",
    "    - samples (2D array): The generated stratified samples. (K, de N(0,sigma), stratifié sur la direction donnée par v)\n",
    "    \"\"\"\n",
    "    d = len(mu)  # Dimension of the normal distribution\n",
    "    # Normalize v so that v^T Sigma v = 1\n",
    "    v = v / np.sqrt(v.T @ Sigma @ v)\n",
    "    \n",
    "    # Generate K stratified samples for the standard normal distribution along v\n",
    "    U = np.random.uniform(0, 1, K)     # Uniformly distributed samples in (0,1)\n",
    "    V = (np.arange(K) + U) / K         # Stratified samples in (0,1)\n",
    "    \n",
    "    X = norm.ppf(V)                    # Inverse CDF (quantile function) to get stratified samples for N(0, 1)\n",
    "    \n",
    "    # Compute the matrix A for the conditional distribution of xi given x\n",
    "    A = cholesky(Sigma, lower=True)    # Cholesky factorization\n",
    "    A_minus_v_Sigma_v_T_A = A - np.outer(Sigma @ v, v.T @ A)\n",
    "    \n",
    "    # Generate K samples from the conditional distribution of xi given X\n",
    "    Z = np.random.randn(K, d)  # Z ~ N(0, I) in d dimensions \n",
    "    if x is not None:\n",
    "\n",
    "        xi_samples = Sigma @ v * x[:, None] + (A_minus_v_Sigma_v_T_A @ Z.T).T  # Conditional samples \n",
    "        #xi_samples = Sigma @ v @ x + (A_minus_v_Sigma_v_T_A @ Z.T).T\n",
    "\n",
    "    else:\n",
    "        xi_samples = Sigma @ v * X[:, None] + (A_minus_v_Sigma_v_T_A @ Z.T).T \n",
    "        #xi_samples = Sigma @ v @ X + (A_minus_v_Sigma_v_T_A @ Z.T).T \n",
    "        \n",
    "    \n",
    "    return xi_samples + mu             # Add the mean to each sample"
   ]
  },
  {
   "cell_type": "code",
   "execution_count": 4,
   "metadata": {},
   "outputs": [],
   "source": [
    "def tirer_K_nb(borne_inf,borne_sup,K):\n",
    "    #vérifier comment tirer les nonbres uniformes sur -inf, a et sur a, +inf. Plusieurs manieres de faire je suis pas sur \n",
    "    if borne_inf == -np.inf:\n",
    "        # Pour l'intervalle (-∞, b)\n",
    "\n",
    "        u = np.random.uniform(0, 1, K)\n",
    "        x_neg_inf = borne_sup - np.log(1 / u)\n",
    "        return x_neg_inf\n",
    "\n",
    "    elif borne_sup == np.inf:\n",
    "        u = np.random.uniform(0, 1, K)\n",
    "        x_pos_inf = borne_inf + np.log(1 / (1 - u))\n",
    "        return x_pos_inf\n",
    "\n",
    "    else:\n",
    "        out = np.random.uniform(borne_inf , borne_sup, K)\n",
    "        return out "
   ]
  },
  {
   "cell_type": "markdown",
   "metadata": {},
   "source": [
    "Tirage si dessous suivant une valeur de $\\mathbb{P}\\left(Y \\in \\cdot \\mid\\left[\\mu_k^{(t)}\\right]^T Y=s\\right)$\n",
    "\n",
    "Ici $s \\in\\left\\{G_k^{-1}(1 / I), \\cdots, G_k^{-1}((I-1) / I)\\right\\}$"
   ]
  },
  {
   "cell_type": "code",
   "execution_count": 14,
   "metadata": {},
   "outputs": [],
   "source": [
    "\n",
    "def quantiles_normaux(I):\n",
    "    \"\"\"Args : I \n",
    "    return : les quantiles normaux, affiches ci-dessus;\"\"\"\n",
    "   \n",
    "    quantiles = [norm.ppf(k / I) for k in range(1, I)]\n",
    "    \n",
    "    return quantiles\n"
   ]
  },
  {
   "cell_type": "code",
   "execution_count": 8,
   "metadata": {},
   "outputs": [
    {
     "data": {
      "text/plain": [
       "array([[1.88841998, 1.26680687, 3.49501925],\n",
       "       [0.73769309, 2.79757164, 3.13906456]])"
      ]
     },
     "execution_count": 8,
     "metadata": {},
     "output_type": "execute_result"
    }
   ],
   "source": [
    "# Example usage:\n",
    "mu = np.array([1, 2, 3])               # Mean vector - on est en 3 dimensions \n",
    "Sigma = np.array([[1, 0.5, 0.1],       # Covariance matrix\n",
    "                  [0.5, 2, 0.3],\n",
    "                  [0.1, 0.3, 1]])\n",
    "v = np.array([1, 1, 1])                # Vector for stratification which is centerd \n",
    "K = 2                           # Number of samples to generate - 10 strates. Donc pour chaque strat les 3 coordonnées. \n",
    "\n",
    "# Generate stratified samples\n",
    "samples = stratified_sampling_linear_projection(mu, Sigma, v, K,np.array([0.27,0.28]))\n",
    "#samples  # Display first 5 samples for brevity\n",
    "samples"
   ]
  },
  {
   "cell_type": "markdown",
   "metadata": {},
   "source": [
    "Calcul de \n",
    "$$\n",
    "\\mathbb{P}\\left(Y \\in \\cdot \\mid Y \\in \\mathrm{S}_{\\mu^{(t)}, \\mathbf{i}}\\right)\n",
    "$$\n",
    "\n",
    "on donne juste le i, numéro de la strat sur laquelle on veut tirer "
   ]
  },
  {
   "cell_type": "code",
   "execution_count": 9,
   "metadata": {},
   "outputs": [],
   "source": [
    "def tirer_y_strat_nu(v,i,mu,sigma,K,S):\n",
    "    \"\"\"\n",
    "\n",
    "    Args : \n",
    "        - v : l'orientation de la strat \n",
    "        - i : indice appartenant à 0....I-1 !! et pas 1,....I ATTENTION \n",
    "        - mu : moyenne de la v.a. Y \n",
    "        - sigma : variance de la v.a. Y \n",
    "        - S : nos strats \n",
    "    \n",
    "    Outputs : tire K variables suivant l'indice i pour la strat donnée \"\"\"\n",
    "\n",
    "    return  stratified_sampling_linear_projection(mu, Sigma, v, K,tirer_K_nb(S[i][0],S[i][1],K))\n",
    "\n",
    "    "
   ]
  },
  {
   "cell_type": "markdown",
   "metadata": {},
   "source": [
    "# Calcul de Si, la strat Si"
   ]
  },
  {
   "cell_type": "markdown",
   "metadata": {},
   "source": [
    "$$\n",
    "\\mathrm{S}_{\\mathbf{i}} \\stackrel{\\text { def }}{=} \\prod_{k=1}^m\\left(G_k^{-1}\\left(\\frac{i_k-1}{I}\\right), G_k^{-1}\\left(\\frac{i_k}{I}\\right)\\right]\n",
    "$$\n",
    "On calcul Si, et on va tirer dedans. "
   ]
  },
  {
   "cell_type": "code",
   "execution_count": 10,
   "metadata": {},
   "outputs": [],
   "source": [
    "\n",
    "def strats_Si(I):\n",
    "    # Calcul de Si pour chaque ik de 1 à I\n",
    "    results = [(norm.ppf((ik - 1) / I), norm.ppf(ik / I)) for ik in range(1, I + 1)]\n",
    "    return results\n",
    "\n",
    "# Afficher les premiers et derniers éléments pour vérification\n",
    "results = strats_Si(100) #les strats que l'on utilise ds la suite \n",
    "results[:5], results[-5:]\n",
    "\n",
    "#-inf*mu -3$mu\n",
    "\n",
    "\n",
    "def p_i_mu(I):\n",
    "    return 1/I"
   ]
  },
  {
   "cell_type": "markdown",
   "metadata": {},
   "source": [
    "# Tirer un point suivant une strat \n",
    "\n",
    "$$\n",
    "\\mathbb{P}\\left(Y \\in \\cdot \\mid Y \\in \\mathrm{S}_{\\mu^{(t)}, \\mathbf{i}}\\right)\n",
    "$$"
   ]
  },
  {
   "cell_type": "code",
   "execution_count": 11,
   "metadata": {},
   "outputs": [
    {
     "data": {
      "text/plain": [
       "array([[2.94047713, 3.64473484, 6.10313107],\n",
       "       [3.08717261, 7.66747004, 3.80231375]])"
      ]
     },
     "execution_count": 11,
     "metadata": {},
     "output_type": "execute_result"
    }
   ],
   "source": [
    "tirer_y_strat_nu(v,99,mu,Sigma,K,results) #le nombre en dur est le numero de la strat ici de 0 à 99 car j'ai fais avec 100 levels dans l'exemple "
   ]
  },
  {
   "cell_type": "markdown",
   "metadata": {},
   "source": [
    "# Choix du vecteur d'allocation \n",
    "\n",
    "$$\n",
    "\\sigma_{\\mathbf{i}}^2(\\mu) \\stackrel{\\text { def }}{=} \\mathrm{E}\\left[\\phi^2(Y) \\mid \\mu^T Y \\in \\mathrm{S}_{\\mathbf{i}}\\right]-\\left(\\mathrm{E}\\left[\\phi(Y) \\mid \\mu^T Y \\in \\mathrm{S}_{\\mathbf{i}}\\right]\\right)^2\n",
    "$$\n",
    "\n",
    "Puis cela permet de calculer : \n",
    "\n",
    "$$\n",
    "q_{\\mathbf{i}}^{\\star}(\\mu) \\stackrel{\\text { def }}{=} \\frac{p_{\\mathbf{i}}(\\mu) \\sigma_{\\mathbf{i}}(\\mu)}{\\sum_{\\mathbf{j} \\in \\mathcal{I}} p_{\\mathbf{j}}(\\mu) \\sigma_{\\mathbf{j}}(\\mu)} .\n",
    "$$"
   ]
  },
  {
   "cell_type": "code",
   "execution_count": 31,
   "metadata": {},
   "outputs": [],
   "source": [
    "#fonctions payoff arbitraires \n",
    "\n",
    "def phi(x):\n",
    "    return x "
   ]
  },
  {
   "cell_type": "markdown",
   "metadata": {},
   "source": [
    "calcul du sigma i tel que défini ci-dessus. "
   ]
  },
  {
   "cell_type": "code",
   "execution_count": 89,
   "metadata": {},
   "outputs": [],
   "source": [
    "def sigma_i(v,i,mu,Sigma,K,results):\n",
    "    #calcul simplement le sigma_i que l'on utilise. Sachant que le pi vaut 1/I \n",
    "    return np.sqrt(np.mean(phi(tirer_y_strat_nu(v,i,mu,Sigma,K,results))**2)- np.mean(phi(tirer_y_strat_nu(v,i,mu,Sigma,K,results)))**2)"
   ]
  },
  {
   "cell_type": "code",
   "execution_count": 90,
   "metadata": {},
   "outputs": [
    {
     "data": {
      "text/plain": [
       "1.7096837812190677"
      ]
     },
     "execution_count": 90,
     "metadata": {},
     "output_type": "execute_result"
    }
   ],
   "source": [
    "sigma_i(v,0,mu,Sigma,2000,results)"
   ]
  },
  {
   "cell_type": "markdown",
   "metadata": {},
   "source": [
    "calcul du vecteur d'allocation optimale à l'instant initial. "
   ]
  },
  {
   "cell_type": "code",
   "execution_count": 83,
   "metadata": {},
   "outputs": [],
   "source": [
    "def calculate_q_star(mu, I, v, Sigma, K, results):\n",
    "    # Initialisation du vecteur des sigmas\n",
    "    sigma_values = np.zeros(I)\n",
    "    \n",
    "    # Calcul de chaque sigma_i pour un mu donné\n",
    "    for i in range(I):\n",
    "        sigma_values[i] = sigma_i(v, i, mu, Sigma, K, results)\n",
    "    \n",
    "    # Puisque p_i(mu) = 1/I pour tous i, on peut simplifier la somme\n",
    "    sigma_p_sum = np.sum(sigma_values) / I  # C'est la somme de tous les sigma_i / I\n",
    "    \n",
    "    # Calcul de q_i*(mu) pour chaque i\n",
    "    q_star = (sigma_values / sigma_p_sum) / I\n",
    "    \n",
    "    return q_star\n"
   ]
  },
  {
   "cell_type": "code",
   "execution_count": 96,
   "metadata": {},
   "outputs": [],
   "source": [
    "qi = calculate_q_star(mu, 100, v, Sigma, 2000, results) #les allocations optimales qi "
   ]
  },
  {
   "cell_type": "markdown",
   "metadata": {},
   "source": [
    "Calcul des quantites Mi à allouer. "
   ]
  },
  {
   "cell_type": "code",
   "execution_count": 95,
   "metadata": {},
   "outputs": [],
   "source": [
    "def calculate_M(q, M):\n",
    "    # Calculer la somme cumulative des qj\n",
    "    cumulative_sums = [0] * len(q)\n",
    "    cumulative_sums[0] = q[0]\n",
    "    for i in range(1, len(q)):\n",
    "        cumulative_sums[i] = cumulative_sums[i - 1] + q[i]\n",
    "\n",
    "    # Calculer Mi pour chaque i\n",
    "    Mi = []\n",
    "    for i in range(len(q)):\n",
    "        if i == 0:\n",
    "            sum_j_less_i = 0  # Pas de j < i pour i = 0\n",
    "        else:\n",
    "            sum_j_less_i = cumulative_sums[i - 1]\n",
    "\n",
    "        sum_j_less_equal_i = cumulative_sums[i]\n",
    "        Mi.append(M * (sum_j_less_equal_i - sum_j_less_i))\n",
    "\n",
    "    return Mi\n"
   ]
  },
  {
   "cell_type": "code",
   "execution_count": 98,
   "metadata": {},
   "outputs": [
    {
     "data": {
      "text/plain": [
       "[14.664945500041554,\n",
       " 11.2138435693111,\n",
       " 11.028816970549943,\n",
       " 10.947595939319593,\n",
       " 10.671516338382329,\n",
       " 10.666555840897567,\n",
       " 10.630488084587581,\n",
       " 10.525339145537924,\n",
       " 10.408123918807105,\n",
       " 10.540377384114313,\n",
       " 10.287121996014225,\n",
       " 10.35263758754526,\n",
       " 10.35871381918732,\n",
       " 10.238558856787483,\n",
       " 10.203202530522038,\n",
       " 10.150403858896178,\n",
       " 10.19006371763881,\n",
       " 10.199563193999866,\n",
       " 10.16818795141225,\n",
       " 9.96813880588887,\n",
       " 9.785860889378245,\n",
       " 9.912882434123693,\n",
       " 10.141015663777647,\n",
       " 10.123362626236421,\n",
       " 10.042288598142212,\n",
       " 9.837502700179911,\n",
       " 9.89390406861923,\n",
       " 9.953695905086713,\n",
       " 9.953880155952943,\n",
       " 9.811548855664153,\n",
       " 9.847012396918597,\n",
       " 9.863122779132095,\n",
       " 9.746695199162103,\n",
       " 9.76363236131994,\n",
       " 9.880293787206618,\n",
       " 9.80248432727282,\n",
       " 9.952273639258824,\n",
       " 9.818791950001572,\n",
       " 9.678735632688173,\n",
       " 10.110779658974723,\n",
       " 9.869045910657404,\n",
       " 9.770663399063073,\n",
       " 9.681518167197535,\n",
       " 9.793621765646188,\n",
       " 9.690196752675128,\n",
       " 9.885811895915309,\n",
       " 9.67989610715475,\n",
       " 9.585708661972003,\n",
       " 9.62823609131991,\n",
       " 9.654458657588904,\n",
       " 9.74087309867433,\n",
       " 9.775240611481383,\n",
       " 9.609625966971457,\n",
       " 9.6817931619122,\n",
       " 9.652983192657395,\n",
       " 9.77382208363653,\n",
       " 9.715738460539303,\n",
       " 9.658715728510515,\n",
       " 9.601520319633462,\n",
       " 9.71178632934,\n",
       " 9.622077029286856,\n",
       " 9.611720017767777,\n",
       " 9.731250123886316,\n",
       " 9.56698919796517,\n",
       " 9.646221118573717,\n",
       " 9.606978327672323,\n",
       " 9.691984863930303,\n",
       " 9.693929188620665,\n",
       " 9.73352769335567,\n",
       " 9.672115875927423,\n",
       " 9.648841162323784,\n",
       " 9.759834663137346,\n",
       " 9.652254406046445,\n",
       " 9.670024307703141,\n",
       " 9.613056428498856,\n",
       " 9.626903238035723,\n",
       " 9.789686379189643,\n",
       " 9.620278097919766,\n",
       " 9.623851696296871,\n",
       " 9.793968475110603,\n",
       " 9.713672626261216,\n",
       " 9.747863301166838,\n",
       " 9.815075214007818,\n",
       " 9.846552856616174,\n",
       " 9.65192637767709,\n",
       " 9.857177442737841,\n",
       " 9.701751430590043,\n",
       " 9.837242290931414,\n",
       " 9.878577327968706,\n",
       " 9.874399013420799,\n",
       " 9.911601698644358,\n",
       " 9.872797729321592,\n",
       " 9.893789290817413,\n",
       " 9.925151487384376,\n",
       " 9.885395636459627,\n",
       " 9.895622302958706,\n",
       " 10.195518455012987,\n",
       " 10.187111111338965,\n",
       " 10.3495814316118,\n",
       " 13.088485682739126]"
      ]
     },
     "execution_count": 98,
     "metadata": {},
     "output_type": "execute_result"
    }
   ],
   "source": [
    "calculate_M(qi,1000) #donne le nb de simu par strat. "
   ]
  },
  {
   "cell_type": "code",
   "execution_count": 100,
   "metadata": {},
   "outputs": [],
   "source": [
    "def initialisation(M, mu, I, v, Sigma, K=2000):\n",
    "    \"\"\"Args : \n",
    "        - M : nb de simu total pour le sample \n",
    "        - mu, Sigma : moyenne et variance de Y\n",
    "        - v : direction de stratifaction \n",
    "        - K : nb de simu juste pour calculer les grandeurs intermediares tq sigma etc... \"\"\"\n",
    "    #renvoie ce qu'il faut pour étape 2 : à savoir les Mi, les pi, et la direction v de stratifaction \n",
    "    results = strats_Si(I) #les strats \n",
    "    qi = calculate_q_star(mu, I, v, Sigma, K, results)\n",
    "    \n",
    "    return calculate_M(qi,M), np.array(I*[1/I]), v"
   ]
  },
  {
   "cell_type": "code",
   "execution_count": 104,
   "metadata": {},
   "outputs": [
    {
     "data": {
      "text/plain": [
       "([146.79119134868,\n",
       "  111.79922722794855,\n",
       "  108.7903159941285,\n",
       "  108.88689341342642,\n",
       "  106.83567672601708,\n",
       "  107.03012906611069,\n",
       "  105.69765590631732,\n",
       "  106.20392887006169,\n",
       "  102.98742092957391,\n",
       "  104.37825698219952,\n",
       "  103.99844496252503,\n",
       "  103.38920287717961,\n",
       "  103.16452313917645,\n",
       "  103.21256137615697,\n",
       "  101.0214240135951,\n",
       "  102.81728448861548,\n",
       "  100.0633293429512,\n",
       "  102.20256921311233,\n",
       "  100.0581318148297,\n",
       "  100.6439460973746,\n",
       "  99.3512991469353,\n",
       "  99.75743964485834,\n",
       "  100.62794342382581,\n",
       "  98.6414563844007,\n",
       "  100.00950535246855,\n",
       "  100.32007279146937,\n",
       "  98.02722756044102,\n",
       "  98.76546576923828,\n",
       "  99.66611966462702,\n",
       "  97.41097453906666,\n",
       "  99.89687497245325,\n",
       "  98.70484543257119,\n",
       "  97.83407719602732,\n",
       "  99.92225031413781,\n",
       "  98.96587502356446,\n",
       "  97.61270606099659,\n",
       "  98.10886538186958,\n",
       "  97.99435010590717,\n",
       "  99.0033658053735,\n",
       "  97.93519082687274,\n",
       "  97.90650013910607,\n",
       "  98.22696801811692,\n",
       "  99.78474948291849,\n",
       "  98.21448397849986,\n",
       "  97.08555498695925,\n",
       "  96.01044562659366,\n",
       "  96.79795602099195,\n",
       "  97.04098143786865,\n",
       "  96.39091740514694,\n",
       "  95.58410148649554,\n",
       "  99.29365088842457,\n",
       "  96.01793441345153,\n",
       "  96.87577186703322,\n",
       "  96.96319875560854,\n",
       "  97.61773844790712,\n",
       "  98.13295386290055,\n",
       "  96.17011222172623,\n",
       "  97.00675284865734,\n",
       "  95.22060671356857,\n",
       "  97.66683783958285,\n",
       "  93.96773311126316,\n",
       "  94.95207517377757,\n",
       "  97.91942249365415,\n",
       "  97.08041538203038,\n",
       "  97.52852066054807,\n",
       "  96.25771538144146,\n",
       "  95.91524976582777,\n",
       "  95.3111547569585,\n",
       "  97.28725985334808,\n",
       "  97.05827762538144,\n",
       "  96.3465630775906,\n",
       "  97.17014401166458,\n",
       "  96.81492547064963,\n",
       "  96.54325440326849,\n",
       "  95.32923948112226,\n",
       "  96.23173278896724,\n",
       "  97.41840693990866,\n",
       "  96.6614491202189,\n",
       "  97.9350203838003,\n",
       "  95.90900249640266,\n",
       "  97.63449649902833,\n",
       "  98.08639157917854,\n",
       "  97.49956451198028,\n",
       "  96.16796887917722,\n",
       "  96.6340690108769,\n",
       "  96.15718261083094,\n",
       "  97.72085176476541,\n",
       "  99.06169657524444,\n",
       "  99.90730750469301,\n",
       "  97.90044835764621,\n",
       "  97.9530180525412,\n",
       "  96.52594926484403,\n",
       "  98.01960739114878,\n",
       "  99.44962440485594,\n",
       "  99.05150423107689,\n",
       "  100.24442016041468,\n",
       "  101.83018799722277,\n",
       "  102.15578704601103,\n",
       "  102.67928533205794,\n",
       "  143.14684081993767],\n",
       " array([0.01, 0.01, 0.01, 0.01, 0.01, 0.01, 0.01, 0.01, 0.01, 0.01, 0.01,\n",
       "        0.01, 0.01, 0.01, 0.01, 0.01, 0.01, 0.01, 0.01, 0.01, 0.01, 0.01,\n",
       "        0.01, 0.01, 0.01, 0.01, 0.01, 0.01, 0.01, 0.01, 0.01, 0.01, 0.01,\n",
       "        0.01, 0.01, 0.01, 0.01, 0.01, 0.01, 0.01, 0.01, 0.01, 0.01, 0.01,\n",
       "        0.01, 0.01, 0.01, 0.01, 0.01, 0.01, 0.01, 0.01, 0.01, 0.01, 0.01,\n",
       "        0.01, 0.01, 0.01, 0.01, 0.01, 0.01, 0.01, 0.01, 0.01, 0.01, 0.01,\n",
       "        0.01, 0.01, 0.01, 0.01, 0.01, 0.01, 0.01, 0.01, 0.01, 0.01, 0.01,\n",
       "        0.01, 0.01, 0.01, 0.01, 0.01, 0.01, 0.01, 0.01, 0.01, 0.01, 0.01,\n",
       "        0.01, 0.01, 0.01, 0.01, 0.01, 0.01, 0.01, 0.01, 0.01, 0.01, 0.01,\n",
       "        0.01]),\n",
       " array([1, 1, 1]))"
      ]
     },
     "execution_count": 104,
     "metadata": {},
     "output_type": "execute_result"
    }
   ],
   "source": [
    "# Example usage:\n",
    "mu = np.array([1, 2, 3])               # Mean vector - on est en 3 dimensions \n",
    "Sigma = np.array([[1, 0.5, 0.1],       # Covariance matrix\n",
    "                  [0.5, 2, 0.3],\n",
    "                  [0.1, 0.3, 1]])\n",
    "v = np.array([1, 1, 1]) \n",
    "\n",
    "initialisation(10000, mu, 100, v, Sigma) #semble cohérent "
   ]
  },
  {
   "cell_type": "code",
   "execution_count": 112,
   "metadata": {},
   "outputs": [
    {
     "name": "stdout",
     "output_type": "stream",
     "text": [
      "[[ 1.          0.55205317  0.73311816 -0.7293417  -0.71632636]\n",
      " [ 0.55205317  1.          0.59653067 -0.24711168 -0.57553556]\n",
      " [ 0.73311816  0.59653067  1.         -0.72296239 -0.56856735]\n",
      " [-0.7293417  -0.24711168 -0.72296239  1.          0.18675538]\n",
      " [-0.71632636 -0.57553556 -0.56856735  0.18675538  1.        ]]\n"
     ]
    }
   ],
   "source": [
    "\n",
    "def create_positive_semi_definite_matrix(dim):\n",
    "    # Générer une matrice aléatoire\n",
    "    A = np.random.randn(dim, dim)\n",
    "    \n",
    "    # Utiliser le produit de A et sa transposée pour obtenir une matrice semi-définie positive\n",
    "    B = np.dot(A, A.T)\n",
    "    \n",
    "    # Normaliser les diagonales pour que la diagonale soit 1\n",
    "    D = np.sqrt(np.diag(B))\n",
    "    B = B / D\n",
    "    B = B / D[:, np.newaxis]\n",
    "    \n",
    "    return B\n",
    "\n",
    "# Créer une matrice de corrélation semi-définie positive de dimension 5x5\n",
    "dim = 5\n",
    "correlation_matrix = create_positive_semi_definite_matrix(dim)\n"
   ]
  },
  {
   "cell_type": "code",
   "execution_count": 114,
   "metadata": {},
   "outputs": [
    {
     "data": {
      "text/plain": [
       "([169.893256699709,\n",
       "  131.28186789427895,\n",
       "  125.29806530501106,\n",
       "  119.88408818741532,\n",
       "  117.67504812426812,\n",
       "  115.90647475985955,\n",
       "  114.12136004781317,\n",
       "  112.71556669299035,\n",
       "  110.83430723488941,\n",
       "  108.64002796651285,\n",
       "  108.25844616046062,\n",
       "  106.4419866265906,\n",
       "  106.67398882004936,\n",
       "  105.33391755338018,\n",
       "  104.99077207465041,\n",
       "  104.50998907915788,\n",
       "  103.51407527326717,\n",
       "  102.15275700983433,\n",
       "  101.39995024297022,\n",
       "  100.12049590625128,\n",
       "  100.08336841371701,\n",
       "  100.48209731419594,\n",
       "  98.20464968624349,\n",
       "  98.73752155498794,\n",
       "  98.37010150861857,\n",
       "  98.54504923305585,\n",
       "  99.03591084717223,\n",
       "  96.3861863405452,\n",
       "  96.51873168977254,\n",
       "  96.38845878783108,\n",
       "  95.37563930869631,\n",
       "  96.13940140146826,\n",
       "  95.65459668564758,\n",
       "  94.46783810413639,\n",
       "  95.95625241132,\n",
       "  93.86497445139086,\n",
       "  93.88101527894766,\n",
       "  94.6160990242162,\n",
       "  94.32978282317761,\n",
       "  92.57479342626773,\n",
       "  93.64504574875254,\n",
       "  93.0986509414844,\n",
       "  94.0443900182486,\n",
       "  92.87934038610723,\n",
       "  93.33138423220811,\n",
       "  92.04013480485551,\n",
       "  92.44964359781393,\n",
       "  92.86507166969216,\n",
       "  92.10215445359215,\n",
       "  92.3910616080792,\n",
       "  92.45856622733916,\n",
       "  91.99893564040606,\n",
       "  92.6452052903437,\n",
       "  91.25137378972804,\n",
       "  91.75377024920328,\n",
       "  91.18206058062684,\n",
       "  92.40954311644734,\n",
       "  92.08552726959196,\n",
       "  91.14970625376695,\n",
       "  91.45767305217989,\n",
       "  92.66719500915733,\n",
       "  91.64278658805536,\n",
       "  92.45227230725628,\n",
       "  91.96425777484806,\n",
       "  91.61049275318246,\n",
       "  91.82297500835656,\n",
       "  92.95658954625918,\n",
       "  92.31976999035996,\n",
       "  92.09002166454371,\n",
       "  91.68159890565963,\n",
       "  92.81470860676211,\n",
       "  91.63547345959478,\n",
       "  93.60789425342463,\n",
       "  91.68406106821902,\n",
       "  93.27770857678664,\n",
       "  93.41042824225765,\n",
       "  93.29160730274234,\n",
       "  94.41619141676627,\n",
       "  95.12229634629944,\n",
       "  94.37567677074598,\n",
       "  95.18276246217039,\n",
       "  95.17296662345687,\n",
       "  95.2877355732884,\n",
       "  95.84953327930967,\n",
       "  97.06345617169431,\n",
       "  97.04455385026401,\n",
       "  98.39229325840692,\n",
       "  98.49776872926874,\n",
       "  99.74894429847004,\n",
       "  100.16170962079852,\n",
       "  99.90772471164422,\n",
       "  100.9545897379649,\n",
       "  103.7502259382317,\n",
       "  104.15254418501773,\n",
       "  105.94165469591354,\n",
       "  107.56733699920918,\n",
       "  110.58030216135717,\n",
       "  114.142770358725,\n",
       "  119.91428464725784,\n",
       "  159.34468822503823],\n",
       " array([0.01, 0.01, 0.01, 0.01, 0.01, 0.01, 0.01, 0.01, 0.01, 0.01, 0.01,\n",
       "        0.01, 0.01, 0.01, 0.01, 0.01, 0.01, 0.01, 0.01, 0.01, 0.01, 0.01,\n",
       "        0.01, 0.01, 0.01, 0.01, 0.01, 0.01, 0.01, 0.01, 0.01, 0.01, 0.01,\n",
       "        0.01, 0.01, 0.01, 0.01, 0.01, 0.01, 0.01, 0.01, 0.01, 0.01, 0.01,\n",
       "        0.01, 0.01, 0.01, 0.01, 0.01, 0.01, 0.01, 0.01, 0.01, 0.01, 0.01,\n",
       "        0.01, 0.01, 0.01, 0.01, 0.01, 0.01, 0.01, 0.01, 0.01, 0.01, 0.01,\n",
       "        0.01, 0.01, 0.01, 0.01, 0.01, 0.01, 0.01, 0.01, 0.01, 0.01, 0.01,\n",
       "        0.01, 0.01, 0.01, 0.01, 0.01, 0.01, 0.01, 0.01, 0.01, 0.01, 0.01,\n",
       "        0.01, 0.01, 0.01, 0.01, 0.01, 0.01, 0.01, 0.01, 0.01, 0.01, 0.01,\n",
       "        0.01]),\n",
       " array([1, 1, 1, 1, 1]))"
      ]
     },
     "execution_count": 114,
     "metadata": {},
     "output_type": "execute_result"
    }
   ],
   "source": [
    "# Example usage:\n",
    "mu = np.array([1, 2, 3,4,1])               # Mean vector - on est en 3 dimensions \n",
    "Sigma = correlation_matrix #on peut changer par ce qu'on veut ! \n",
    "v = np.array([1, 1, 1,1,1]) \n",
    "\n",
    "initialisation(10000, mu, 100, v, Sigma) #semble cohérent "
   ]
  }
 ],
 "metadata": {
  "kernelspec": {
   "display_name": "skfolio",
   "language": "python",
   "name": "python3"
  },
  "language_info": {
   "codemirror_mode": {
    "name": "ipython",
    "version": 3
   },
   "file_extension": ".py",
   "mimetype": "text/x-python",
   "name": "python",
   "nbconvert_exporter": "python",
   "pygments_lexer": "ipython3",
   "version": "3.11.8"
  }
 },
 "nbformat": 4,
 "nbformat_minor": 2
}
