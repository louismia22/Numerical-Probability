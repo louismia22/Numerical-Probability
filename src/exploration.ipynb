{
 "cells": [
  {
   "cell_type": "code",
   "execution_count": 65,
   "metadata": {},
   "outputs": [],
   "source": [
    "from algorithm import *\n",
    "import matplotlib.pyplot as plt\n",
    "import numpy as np\n",
    "import pandas as pd\n",
    "from scipy.optimize import minimize"
   ]
  },
  {
   "cell_type": "code",
   "execution_count": 2,
   "metadata": {},
   "outputs": [],
   "source": [
    "def get_nu_star(xi, params):\n",
    "\n",
    "    def objective(nu):\n",
    "\n",
    "        if xi(nu, **params)>0:\n",
    "            return -(np.log(xi(nu, **params)) - 0.5*np.dot(nu.T, nu))\n",
    "        else:\n",
    "            return 1e80\n",
    "        \n",
    "    nu0 = np.zeros(params[\"d\"])\n",
    "\n",
    "    result = minimize(objective, nu0, method='SLSQP')\n",
    "\n",
    "    if result.success:\n",
    "        return result.x/np.linalg.norm(result.x)\n",
    "    else:\n",
    "        raise ValueError(\"L'optimisation n'a pas réussi à converger.\")"
   ]
  },
  {
   "cell_type": "markdown",
   "metadata": {},
   "source": [
    "# Asian Option"
   ]
  },
  {
   "cell_type": "code",
   "execution_count": 49,
   "metadata": {},
   "outputs": [],
   "source": [
    "def asian_function(y, S0, v, mu, maturity, strike, rate, d):\n",
    "\n",
    "    k = np.arange(1, d + 1)\n",
    "    y_cum = np.cumsum(y)\n",
    "    payoff = np.exp(-rate*maturity)*max(S0*np.sum(np.exp(mu*(k*maturity)/d + v*np.sqrt(maturity/d)*y_cum))/d - strike, 0)\n",
    "\n",
    "    return payoff"
   ]
  },
  {
   "cell_type": "code",
   "execution_count": 50,
   "metadata": {},
   "outputs": [],
   "source": [
    "d = 16\n",
    "T = 1\n",
    "r = 0.05\n",
    "S0 = 50\n",
    "K = 45\n",
    "v = 0.1\n",
    "\n",
    "params_asian = {\n",
    "    \"d\": d,\n",
    "    \"S0\": S0,\n",
    "    \"v\": v,\n",
    "    \"mu\": r-0.5*v**2,\n",
    "    \"maturity\": T,\n",
    "    \"strike\": K,\n",
    "    \"rate\": r\n",
    "}"
   ]
  },
  {
   "cell_type": "code",
   "execution_count": 51,
   "metadata": {},
   "outputs": [],
   "source": [
    "I = 100\n",
    "M = 20000\n",
    "mean = np.zeros(d)\n",
    "cov = np.eye(d)\n",
    "\n",
    "drift_vector_asian = get_nu_star(asian_function, params_asian)\n",
    "\n",
    "\n",
    "phi_asian = lambda y: np.exp(- drift_vector_asian.T @ y - 0.5*drift_vector_asian.T @ drift_vector_asian)*asian_function(y + drift_vector_asian, params_asian['S0'], params_asian['v'], params_asian['mu'], params_asian['maturity'], params_asian['strike'], params_asian['rate'], params_asian['d'])"
   ]
  },
  {
   "cell_type": "code",
   "execution_count": 57,
   "metadata": {},
   "outputs": [],
   "source": [
    "algo_asian = Algorithm(M,\n",
    "                 I,\n",
    "                 d,\n",
    "                 phi_asian,\n",
    "                 mean,\n",
    "                 cov)\n",
    "\n",
    "N = 200\n",
    "V_asian, mus_asian = algo_asian.compute_algorithm_iteration(N)"
   ]
  },
  {
   "cell_type": "code",
   "execution_count": 58,
   "metadata": {},
   "outputs": [
    {
     "data": {
      "text/plain": [
       "array([1.61140363, 1.6195951 , 0.5006181 , 1.96118332, 1.0673433 ,\n",
       "       2.39631636, 2.19627709, 2.8048055 , 1.14651022, 3.18027016,\n",
       "       1.28581175, 2.8868816 , 1.65309579, 1.61604286, 0.75470573,\n",
       "       1.58066556, 0.67263363, 1.47119994, 0.5391994 , 1.98485437,\n",
       "       0.83070469, 2.09005096, 1.53504265, 1.63940815, 0.79904751,\n",
       "       1.37606897, 0.52318573, 1.12931236, 0.62121853, 1.47469093,\n",
       "       0.70430522, 1.28007622, 0.5933763 , 1.18040562, 0.67990603,\n",
       "       1.26613371, 0.60186923, 1.7181892 , 0.67237809, 1.25372108,\n",
       "       0.47106201, 1.33099128, 0.72752244, 1.10135107, 0.83303017,\n",
       "       1.13515616, 0.65645877, 1.19759817, 0.6432708 , 1.15583112,\n",
       "       0.65798692, 1.03638729, 0.59563203, 1.01368912, 1.19868023,\n",
       "       1.11171512, 0.94927876, 0.88340266, 1.00787483, 1.00402294,\n",
       "       0.86107301, 0.87850706, 1.13276815, 0.62124378, 1.01637066,\n",
       "       0.89838003, 1.00075483, 1.00668954, 0.86678985, 0.96780586,\n",
       "       0.8960797 , 0.85580625, 0.99624336, 0.82720188, 0.97835799,\n",
       "       0.75548735, 0.97258357, 0.69402731, 1.10244773, 0.88183747,\n",
       "       0.97930152, 0.83398793, 0.93856868, 0.85530556, 0.8104114 ,\n",
       "       0.96390318, 0.92209559, 0.84644149, 0.93365907, 0.93005868,\n",
       "       0.81200543, 1.07268501, 0.7535351 , 0.94219178, 0.94284272,\n",
       "       0.93456194, 0.82554481, 0.99052821, 0.84023502, 0.96644457,\n",
       "       0.8546889 , 1.02045353, 0.82838947, 0.94987465, 0.78145963,\n",
       "       0.93075596, 0.85019249, 0.79796053, 0.98539453, 0.83936085,\n",
       "       0.86191641, 0.92526003, 0.90224386, 0.98750786, 0.91292756,\n",
       "       0.88168085, 0.96298196, 0.73696396, 0.94903026, 0.83554908,\n",
       "       0.8602027 , 0.85333318, 0.97202259, 0.99861159, 0.96092447,\n",
       "       0.8767933 , 0.94557141, 0.9149805 , 0.84048244, 0.89745452,\n",
       "       0.91063491, 0.92392873, 0.93497058, 0.76479124, 0.89618636,\n",
       "       0.96680283, 0.79006909, 0.94563637, 0.86109203, 0.97753621,\n",
       "       0.94728473, 0.91384293, 0.95425692, 0.91986762, 1.02029035,\n",
       "       0.82336898, 0.92266409, 0.93287709, 0.88889061, 0.98157752,\n",
       "       0.93633101, 0.92683599, 0.97587926, 0.93691433, 0.79166406,\n",
       "       0.81466168, 0.77697841, 0.92820012, 0.88990929, 0.86569205,\n",
       "       0.92464944, 0.92069064, 0.95107073, 0.82287346, 0.89923861,\n",
       "       0.84816206, 0.91368633, 0.96105765, 0.95038169, 0.92498677,\n",
       "       0.94176462, 0.86741973, 0.96542002, 0.79255231, 0.98808347,\n",
       "       0.70964416, 0.9061373 , 0.7334995 , 0.86322548, 0.82234206,\n",
       "       0.87601785, 0.87316891, 0.9002717 , 0.87316332, 0.91093682,\n",
       "       0.91764979, 1.08009899, 0.99592535, 0.95413633, 1.02363221,\n",
       "       0.82314976, 0.91946165, 0.92854671, 0.96569964, 0.94121139,\n",
       "       0.92915495, 0.90501055, 0.91502491, 0.87266546, 0.89700184,\n",
       "       0.85647116])"
      ]
     },
     "execution_count": 58,
     "metadata": {},
     "output_type": "execute_result"
    }
   ],
   "source": [
    "V_asian"
   ]
  },
  {
   "cell_type": "code",
   "execution_count": 66,
   "metadata": {},
   "outputs": [],
   "source": [
    "df = pd.DataFrame(V_asian)"
   ]
  },
  {
   "cell_type": "code",
   "execution_count": 79,
   "metadata": {},
   "outputs": [
    {
     "data": {
      "text/html": [
       "<div>\n",
       "<style scoped>\n",
       "    .dataframe tbody tr th:only-of-type {\n",
       "        vertical-align: middle;\n",
       "    }\n",
       "\n",
       "    .dataframe tbody tr th {\n",
       "        vertical-align: top;\n",
       "    }\n",
       "\n",
       "    .dataframe thead th {\n",
       "        text-align: right;\n",
       "    }\n",
       "</style>\n",
       "<table border=\"1\" class=\"dataframe\">\n",
       "  <thead>\n",
       "    <tr style=\"text-align: right;\">\n",
       "      <th></th>\n",
       "      <th>0</th>\n",
       "    </tr>\n",
       "  </thead>\n",
       "  <tbody>\n",
       "    <tr>\n",
       "      <th>0</th>\n",
       "      <td>1.611404</td>\n",
       "    </tr>\n",
       "    <tr>\n",
       "      <th>1</th>\n",
       "      <td>1.616222</td>\n",
       "    </tr>\n",
       "    <tr>\n",
       "      <th>2</th>\n",
       "      <td>1.106814</td>\n",
       "    </tr>\n",
       "    <tr>\n",
       "      <th>3</th>\n",
       "      <td>1.444109</td>\n",
       "    </tr>\n",
       "    <tr>\n",
       "      <th>4</th>\n",
       "      <td>1.308245</td>\n",
       "    </tr>\n",
       "    <tr>\n",
       "      <th>...</th>\n",
       "      <td>...</td>\n",
       "    </tr>\n",
       "    <tr>\n",
       "      <th>196</th>\n",
       "      <td>0.927305</td>\n",
       "    </tr>\n",
       "    <tr>\n",
       "      <th>197</th>\n",
       "      <td>0.923621</td>\n",
       "    </tr>\n",
       "    <tr>\n",
       "      <th>198</th>\n",
       "      <td>0.908334</td>\n",
       "    </tr>\n",
       "    <tr>\n",
       "      <th>199</th>\n",
       "      <td>0.904935</td>\n",
       "    </tr>\n",
       "    <tr>\n",
       "      <th>200</th>\n",
       "      <td>0.890396</td>\n",
       "    </tr>\n",
       "  </tbody>\n",
       "</table>\n",
       "<p>201 rows × 1 columns</p>\n",
       "</div>"
      ],
      "text/plain": [
       "            0\n",
       "0    1.611404\n",
       "1    1.616222\n",
       "2    1.106814\n",
       "3    1.444109\n",
       "4    1.308245\n",
       "..        ...\n",
       "196  0.927305\n",
       "197  0.923621\n",
       "198  0.908334\n",
       "199  0.904935\n",
       "200  0.890396\n",
       "\n",
       "[201 rows x 1 columns]"
      ]
     },
     "execution_count": 79,
     "metadata": {},
     "output_type": "execute_result"
    }
   ],
   "source": [
    "df.ewm(alpha=0.3).mean()"
   ]
  },
  {
   "cell_type": "code",
   "execution_count": 87,
   "metadata": {},
   "outputs": [
    {
     "data": {
      "text/plain": [
       "[<matplotlib.lines.Line2D at 0x13ff04f70>]"
      ]
     },
     "execution_count": 87,
     "metadata": {},
     "output_type": "execute_result"
    },
    {
     "data": {
      "image/png": "[encoded data removed]",
      "text/plain": [
       "<Figure size 640x480 with 1 Axes>"
      ]
     },
     "metadata": {},
     "output_type": "display_data"
    }
   ],
   "source": [
    "plt.plot(df.ewm(alpha=0.1).mean()[7:])"
   ]
  },
  {
   "cell_type": "markdown",
   "metadata": {},
   "source": [
    "# Barrier Option"
   ]
  },
  {
   "cell_type": "code",
   "execution_count": 88,
   "metadata": {},
   "outputs": [],
   "source": [
    "def knock_out_function(y, S0, v, mu, maturity, strike, rate, barrier, d):\n",
    "\n",
    "    d = len(y)\n",
    "    k = np.arange(1, d + 1)\n",
    "    y_cum = np.cumsum(y)\n",
    "\n",
    "    s = S0*np.exp(mu*maturity + v*np.sqrt(maturity/d)*y_cum[-1])\n",
    "    payoff = np.exp(-rate*maturity)*max(S0*np.sum(np.exp(mu*(k*maturity)/d + v*np.sqrt(maturity/d)*y_cum))/d - strike, 0)*(1 if s <= barrier else 0)\n",
    "\n",
    "    return payoff"
   ]
  },
  {
   "cell_type": "code",
   "execution_count": 89,
   "metadata": {},
   "outputs": [],
   "source": [
    "d = 16\n",
    "T = 1\n",
    "r = 0.05\n",
    "S0 = 50\n",
    "K = 50\n",
    "B = 60\n",
    "v = 0.1\n",
    "\n",
    "params_barrier = {\n",
    "    \"d\": d,\n",
    "    \"S0\": S0,\n",
    "    \"v\": v,\n",
    "    \"mu\": r-0.5*v**2,\n",
    "    \"maturity\": T,\n",
    "    \"strike\": K,\n",
    "    \"rate\": r, \n",
    "    \"barrier\": B\n",
    "}"
   ]
  },
  {
   "cell_type": "code",
   "execution_count": 90,
   "metadata": {},
   "outputs": [],
   "source": [
    "I = 100\n",
    "M = 20000\n",
    "mean = np.zeros(d)\n",
    "cov = np.eye(d)\n",
    "\n",
    "drift_vector_barrier = get_nu_star(knock_out_function, params_barrier)\n",
    "\n",
    "\n",
    "phi_barrier = lambda y: np.exp(- drift_vector_barrier.T @ y - 0.5*drift_vector_barrier.T @ drift_vector_barrier)*knock_out_function(y + drift_vector_barrier, params_barrier['S0'], params_barrier['v'], params_barrier['mu'], params_barrier['maturity'], params_barrier['strike'], params_barrier['rate'], params_barrier['barrier'], params_barrier['d'])"
   ]
  },
  {
   "cell_type": "code",
   "execution_count": 92,
   "metadata": {},
   "outputs": [],
   "source": [
    "algo_barrier = Algorithm(M,\n",
    "                         I,\n",
    "                         d,\n",
    "                         phi_barrier,\n",
    "                         mean,\n",
    "                         cov)\n",
    "\n",
    "N = 200\n",
    "V_barrier, mus_barrier = algo_barrier.compute_algorithm_iteration(N)"
   ]
  },
  {
   "cell_type": "markdown",
   "metadata": {},
   "source": [
    "# Basket Option"
   ]
  },
  {
   "cell_type": "code",
   "execution_count": null,
   "metadata": {},
   "outputs": [],
   "source": [
    "def basket_options_function(y, S0, v, mu, sq_correl, maturity, strike, alpha, rate, d):\n",
    "\n",
    "    y_tilde = np.dot(sq_correl, y)\n",
    "    payoff = np.exp(-rate*maturity)*max(np.sum(alpha*S0*np.exp(mu*T + v*np.sqrt(maturity)*y_tilde)) - strike, 0)\n",
    "\n",
    "    return payoff"
   ]
  },
  {
   "cell_type": "code",
   "execution_count": 27,
   "metadata": {},
   "outputs": [],
   "source": [
    "d = 40\n",
    "T = 1\n",
    "r = 0.05\n",
    "S0 = np.random.uniform(20, 80, d)\n",
    "K = 45\n",
    "alpha = np.ones(d)/d\n",
    "\n",
    "c = 0.1\n",
    "sigma = c*np.ones((d, d)) + (1-c)*np.eye(d)\n",
    "v = np.linspace(0.1, 0.4, d)\n",
    "\n",
    "params_basket = {\n",
    "    \"d\": d,\n",
    "    \"S0\": S0,\n",
    "    \"v\": v,\n",
    "    \"mu\": r-0.5*v**2,\n",
    "    \"sq_correl\": np.linalg.cholesky(sigma),\n",
    "    \"maturity\": T,\n",
    "    \"strike\": K,\n",
    "    \"alpha\": alpha,\n",
    "    \"rate\": r\n",
    "}"
   ]
  },
  {
   "cell_type": "code",
   "execution_count": null,
   "metadata": {},
   "outputs": [],
   "source": [
    "I = 100\n",
    "M = 20000\n",
    "mean = np.zeros(d)\n",
    "cov = np.eye(d)\n",
    "\n",
    "drift_vector_basket = get_nu_star(knock_out_function, params_barrier)\n",
    "\n",
    "\n",
    "phi_basket = lambda y: np.exp(- drift_vector_basket.T @ y - 0.5*drift_vector_basket.T @ drift_vector_basket)*asian_function(y + drift_vector_barrier, params_barrier['S0'], params_barrier['v'], params_barrier['mu'], params_barrier['maturity'], params_barrier['strike'], params_barrier['rate'], params_barrier['d'])"
   ]
  },
  {
   "cell_type": "markdown",
   "metadata": {},
   "source": [
    "## Test fonction"
   ]
  },
  {
   "cell_type": "code",
   "execution_count": null,
   "metadata": {},
   "outputs": [],
   "source": []
  }
 ],
 "metadata": {
  "kernelspec": {
   "display_name": "Python 3",
   "language": "python",
   "name": "python3"
  },
  "language_info": {
   "codemirror_mode": {
    "name": "ipython",
    "version": 3
   },
   "file_extension": ".py",
   "mimetype": "text/x-python",
   "name": "python",
   "nbconvert_exporter": "python",
   "pygments_lexer": "ipython3",
   "version": "3.10.0"
  }
 },
 "nbformat": 4,
 "nbformat_minor": 2
}
