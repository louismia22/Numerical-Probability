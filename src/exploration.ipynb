{
 "cells": [
  {
   "cell_type": "code",
   "execution_count": 1,
   "metadata": {},
   "outputs": [],
   "source": [
    "from scipy.optimize import minimize\n",
    "import numpy as np"
   ]
  },
  {
   "cell_type": "code",
   "execution_count": 2,
   "metadata": {},
   "outputs": [],
   "source": [
    "def get_nu_star(xi, params):\n",
    "\n",
    "    def objective(nu):\n",
    "\n",
    "        if xi(nu, **params)>0:\n",
    "            return -(np.log(xi(nu, **params)) - 0.5*np.dot(nu.T, nu))\n",
    "        else:\n",
    "            return 1e80\n",
    "        \n",
    "    nu0 = np.zeros(params[\"d\"])\n",
    "\n",
    "    result = minimize(objective, nu0, method='SLSQP')\n",
    "\n",
    "    if result.success:\n",
    "        return result.x\n",
    "    else:\n",
    "        raise ValueError(\"L'optimisation n'a pas réussi à converger.\")"
   ]
  },
  {
   "cell_type": "code",
   "execution_count": 3,
   "metadata": {},
   "outputs": [],
   "source": [
    "r = 0.05\n",
    "T = 1\n",
    "s0 = 50\n",
    "sigma = 0.1\n",
    "K = 50\n",
    "\n",
    "B = 60"
   ]
  },
  {
   "cell_type": "code",
   "execution_count": 4,
   "metadata": {},
   "outputs": [],
   "source": [
    "def asian_function(y, S0, v, mu, maturity, strike, rate, d):\n",
    "\n",
    "    k = np.arange(1, d + 1)\n",
    "    y_cum = np.cumsum(y)\n",
    "    payoff = np.exp(-rate*maturity)*max(S0*np.sum(np.exp(mu*(k*T)/d + v*np.sqrt(T/d)*y_cum))/d - strike, 0)\n",
    "\n",
    "    return payoff"
   ]
  },
  {
   "cell_type": "code",
   "execution_count": 5,
   "metadata": {},
   "outputs": [],
   "source": [
    "d = 16\n",
    "T = 1\n",
    "r = 0.05\n",
    "\n",
    "S0 = 50\n",
    "K = 45\n",
    "v = 0.1\n",
    "\n",
    "params_asian = {\n",
    "    \"d\": d,\n",
    "    \"S0\": S0,\n",
    "    \"v\": v,\n",
    "    \"mu\": r-0.5*v**2,\n",
    "    \"maturity\": T,\n",
    "    \"strike\": K,\n",
    "    \"rate\": r\n",
    "}"
   ]
  },
  {
   "cell_type": "code",
   "execution_count": 6,
   "metadata": {},
   "outputs": [
    {
     "data": {
      "text/plain": [
       "array([0.41409411, 0.38929429, 0.36432272, 0.33918479, 0.31388597,\n",
       "       0.28843211, 0.26282931, 0.23708353, 0.21120063, 0.18518756,\n",
       "       0.15905015, 0.13279534, 0.10642983, 0.07996049, 0.05339445,\n",
       "       0.02673861])"
      ]
     },
     "execution_count": 6,
     "metadata": {},
     "output_type": "execute_result"
    }
   ],
   "source": [
    "nu = get_nu_star(asian_function, params_asian)/0.42\n",
    "nu"
   ]
  },
  {
   "cell_type": "code",
   "execution_count": 7,
   "metadata": {},
   "outputs": [],
   "source": [
    "def knock_out_function(y, S0, v, mu, maturity, strike, rate, barrier, d):\n",
    "\n",
    "    d = len(y)\n",
    "    k = np.arange(1, d + 1)\n",
    "    y_cum = np.cumsum(y)\n",
    "\n",
    "    s = S0*np.exp(mu*maturity + v*np.sqrt(maturity/d)*y_cum[-1])\n",
    "    payoff = np.exp(-rate*maturity)*max(S0*np.sum(np.exp(mu*(k*maturity)/d + v*np.sqrt(maturity/d)*y_cum))/d - strike, 0)*(1 if s <= barrier else 0)\n",
    "\n",
    "    return payoff"
   ]
  },
  {
   "cell_type": "code",
   "execution_count": 8,
   "metadata": {},
   "outputs": [],
   "source": [
    "d = 16\n",
    "T = 1\n",
    "r = 0.05\n",
    "\n",
    "S0 = 50\n",
    "K = 50\n",
    "B = 60\n",
    "v = 0.1\n",
    "\n",
    "params_barrier = {\n",
    "    \"d\": d,\n",
    "    \"S0\": S0,\n",
    "    \"v\": v,\n",
    "    \"mu\": r-0.5*v**2,\n",
    "    \"maturity\": T,\n",
    "    \"strike\": K,\n",
    "    \"rate\": r, \n",
    "    \"barrier\": B\n",
    "}"
   ]
  },
  {
   "cell_type": "code",
   "execution_count": 9,
   "metadata": {},
   "outputs": [
    {
     "data": {
      "text/plain": [
       "array([0.40948586, 0.38548032, 0.36121139, 0.33668898, 0.31192227,\n",
       "       0.28692279, 0.26170077, 0.23626863, 0.21063744, 0.18482026,\n",
       "       0.15882959, 0.13267844, 0.10638071, 0.07994953, 0.05339963,\n",
       "       0.02674488])"
      ]
     },
     "execution_count": 9,
     "metadata": {},
     "output_type": "execute_result"
    }
   ],
   "source": [
    "nu = get_nu_star(knock_out_function, params_barrier)/0.84\n",
    "nu"
   ]
  },
  {
   "cell_type": "code",
   "execution_count": 10,
   "metadata": {},
   "outputs": [],
   "source": [
    "def basket_options_function(y, S0, v, mu, sq_correl, maturity, strike, alpha, rate, d):\n",
    "\n",
    "    y_tilde = np.dot(sq_correl, y)\n",
    "    payoff = np.exp(-rate*maturity)*max(np.sum(alpha*S0*np.exp(mu*T + v*np.sqrt(maturity)*y_tilde)) - strike, 0)\n",
    "\n",
    "    return payoff"
   ]
  },
  {
   "cell_type": "code",
   "execution_count": 11,
   "metadata": {},
   "outputs": [],
   "source": [
    "d = 40\n",
    "T = 1\n",
    "r = 0.05\n",
    "\n",
    "S0 = np.random.uniform(20, 80, d)\n",
    "K = 45\n",
    "alpha = np.ones(d)/d\n",
    "\n",
    "c = 0.1\n",
    "sigma = c*np.ones((d, d)) + (1-c)*np.eye(d)\n",
    "v = np.linspace(0.1, 0.4, d)\n",
    "\n",
    "params_basket = {\n",
    "    \"d\": d,\n",
    "    \"S0\": S0,\n",
    "    \"v\": v,\n",
    "    \"mu\": r-0.5*v**2,\n",
    "    \"sq_correl\": np.linalg.cholesky(sigma),\n",
    "    \"maturity\": T,\n",
    "    \"strike\": K,\n",
    "    \"alpha\": alpha,\n",
    "    \"rate\": r\n",
    "}"
   ]
  },
  {
   "cell_type": "code",
   "execution_count": 12,
   "metadata": {},
   "outputs": [
    {
     "data": {
      "text/plain": [
       "array([0.49387759, 0.45499311, 0.44233134, 0.42097589, 0.34820587,\n",
       "       0.34137173, 0.30711638, 0.31763454, 0.29970626, 0.32864644,\n",
       "       0.23891777, 0.24525889, 0.25001646, 0.23881122, 0.26902485,\n",
       "       0.28386725, 0.17894612, 0.25946362, 0.22885432, 0.22403201,\n",
       "       0.22220453, 0.24837555, 0.25918935, 0.12835982, 0.12469161,\n",
       "       0.15650559, 0.25443503, 0.18985883, 0.12502427, 0.16651037,\n",
       "       0.1740852 , 0.25243009, 0.16687629, 0.25858598, 0.12545466,\n",
       "       0.16435488, 0.20683362, 0.11598998, 0.27572766, 0.24204319])"
      ]
     },
     "execution_count": 12,
     "metadata": {},
     "output_type": "execute_result"
    }
   ],
   "source": [
    "nu = get_nu_star(basket_options_function, params_basket)/0.41\n",
    "nu"
   ]
  }
 ],
 "metadata": {
  "kernelspec": {
   "display_name": "Python 3",
   "language": "python",
   "name": "python3"
  },
  "language_info": {
   "codemirror_mode": {
    "name": "ipython",
    "version": 3
   },
   "file_extension": ".py",
   "mimetype": "text/x-python",
   "name": "python",
   "nbconvert_exporter": "python",
   "pygments_lexer": "ipython3",
   "version": "3.12.2"
  }
 },
 "nbformat": 4,
 "nbformat_minor": 2
}
