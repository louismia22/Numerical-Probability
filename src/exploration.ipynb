{
 "cells": [
  {
   "cell_type": "code",
   "execution_count": 7,
   "metadata": {},
   "outputs": [],
   "source": [
    "from scipy.optimize import minimize\n",
    "import numpy as np"
   ]
  },
  {
   "cell_type": "code",
   "execution_count": 2,
   "metadata": {},
   "outputs": [],
   "source": [
    "def get_nu_star(xi, params):\n",
    "\n",
    "    def objective(nu):\n",
    "\n",
    "        if xi(nu, **params)>0:\n",
    "            return -(np.log(xi(nu, **params)) - 0.5*np.dot(nu.T, nu))\n",
    "        else:\n",
    "            return 1e80\n",
    "        \n",
    "    nu0 = np.zeros(params[\"d\"])\n",
    "\n",
    "    result = minimize(objective, nu0, method='SLSQP')\n",
    "\n",
    "    if result.success:\n",
    "        return result.x/np.linalg.norm(result.x)\n",
    "    else:\n",
    "        raise ValueError(\"L'optimisation n'a pas réussi à converger.\")"
   ]
  },
  {
   "cell_type": "code",
   "execution_count": 4,
   "metadata": {},
   "outputs": [],
   "source": [
    "def asian_function(y, S0, v, mu, maturity, strike, rate, d):\n",
    "\n",
    "    k = np.arange(1, d + 1)\n",
    "    y_cum = np.cumsum(y)\n",
    "    payoff = np.exp(-rate*maturity)*max(S0*np.sum(np.exp(mu*(k*T)/d + v*np.sqrt(T/d)*y_cum))/d - strike, 0)\n",
    "\n",
    "    return payoff"
   ]
  },
  {
   "cell_type": "code",
   "execution_count": 5,
   "metadata": {},
   "outputs": [],
   "source": [
    "d = 16\n",
    "T = 1\n",
    "r = 0.05\n",
    "S0 = 50\n",
    "K = 45\n",
    "v = 0.1\n",
    "\n",
    "params_asian = {\n",
    "    \"d\": d,\n",
    "    \"S0\": S0,\n",
    "    \"v\": v,\n",
    "    \"mu\": r-0.5*v**2,\n",
    "    \"maturity\": T,\n",
    "    \"strike\": K,\n",
    "    \"rate\": r\n",
    "}"
   ]
  },
  {
   "cell_type": "code",
   "execution_count": 8,
   "metadata": {},
   "outputs": [
    {
     "data": {
      "text/plain": [
       "array([0.40982835, 0.38528402, 0.36056971, 0.33569056, 0.31065248,\n",
       "       0.2854611 , 0.26012196, 0.23464137, 0.20902524, 0.18327985,\n",
       "       0.15741169, 0.13142738, 0.10533349, 0.07913696, 0.05284445,\n",
       "       0.02646301])"
      ]
     },
     "execution_count": 8,
     "metadata": {},
     "output_type": "execute_result"
    }
   ],
   "source": [
    "nu = get_nu_star(asian_function, params_asian)\n",
    "nu"
   ]
  },
  {
   "cell_type": "code",
   "execution_count": 9,
   "metadata": {},
   "outputs": [],
   "source": [
    "def knock_out_function(y, S0, v, mu, maturity, strike, rate, barrier, d):\n",
    "\n",
    "    d = len(y)\n",
    "    k = np.arange(1, d + 1)\n",
    "    y_cum = np.cumsum(y)\n",
    "\n",
    "    s = S0*np.exp(mu*maturity + v*np.sqrt(maturity/d)*y_cum[-1])\n",
    "    payoff = np.exp(-rate*maturity)*max(S0*np.sum(np.exp(mu*(k*maturity)/d + v*np.sqrt(maturity/d)*y_cum))/d - strike, 0)*(1 if s <= barrier else 0)\n",
    "\n",
    "    return payoff"
   ]
  },
  {
   "cell_type": "code",
   "execution_count": 10,
   "metadata": {},
   "outputs": [],
   "source": [
    "d = 16\n",
    "T = 1\n",
    "r = 0.05\n",
    "S0 = 50\n",
    "K = 50\n",
    "B = 60\n",
    "v = 0.1\n",
    "\n",
    "params_barrier = {\n",
    "    \"d\": d,\n",
    "    \"S0\": S0,\n",
    "    \"v\": v,\n",
    "    \"mu\": r-0.5*v**2,\n",
    "    \"maturity\": T,\n",
    "    \"strike\": K,\n",
    "    \"rate\": r, \n",
    "    \"barrier\": B\n",
    "}"
   ]
  },
  {
   "cell_type": "code",
   "execution_count": 14,
   "metadata": {},
   "outputs": [
    {
     "data": {
      "text/plain": [
       "array([0.40812684, 0.38420128, 0.3600129 , 0.33557173, 0.31088697,\n",
       "       0.28597045, 0.26083241, 0.23548451, 0.20993855, 0.18420724,\n",
       "       0.15830259, 0.13223834, 0.10602771, 0.07968461, 0.05322245,\n",
       "       0.02665596])"
      ]
     },
     "execution_count": 14,
     "metadata": {},
     "output_type": "execute_result"
    }
   ],
   "source": [
    "nu = get_nu_star(knock_out_function, params_barrier)\n",
    "nu"
   ]
  },
  {
   "cell_type": "code",
   "execution_count": 15,
   "metadata": {},
   "outputs": [],
   "source": [
    "def basket_options_function(y, S0, v, mu, sq_correl, maturity, strike, alpha, rate, d):\n",
    "\n",
    "    y_tilde = np.dot(sq_correl, y)\n",
    "    payoff = np.exp(-rate*maturity)*max(np.sum(alpha*S0*np.exp(mu*T + v*np.sqrt(maturity)*y_tilde)) - strike, 0)\n",
    "\n",
    "    return payoff"
   ]
  },
  {
   "cell_type": "code",
   "execution_count": 16,
   "metadata": {},
   "outputs": [],
   "source": [
    "d = 40\n",
    "T = 1\n",
    "r = 0.05\n",
    "S0 = np.random.uniform(20, 80, d)\n",
    "K = 45\n",
    "alpha = np.ones(d)/d\n",
    "\n",
    "c = 0.1\n",
    "sigma = c*np.ones((d, d)) + (1-c)*np.eye(d)\n",
    "v = np.linspace(0.1, 0.4, d)\n",
    "\n",
    "params_basket = {\n",
    "    \"d\": d,\n",
    "    \"S0\": S0,\n",
    "    \"v\": v,\n",
    "    \"mu\": r-0.5*v**2,\n",
    "    \"sq_correl\": np.linalg.cholesky(sigma),\n",
    "    \"maturity\": T,\n",
    "    \"strike\": K,\n",
    "    \"alpha\": alpha,\n",
    "    \"rate\": r\n",
    "}"
   ]
  },
  {
   "cell_type": "code",
   "execution_count": 18,
   "metadata": {},
   "outputs": [
    {
     "data": {
      "text/plain": [
       "array([0.31098507, 0.28295302, 0.23645495, 0.23223689, 0.22843953,\n",
       "       0.21541919, 0.1935192 , 0.18289986, 0.17008414, 0.15646833,\n",
       "       0.18028326, 0.13838783, 0.16428681, 0.17851825, 0.17006082,\n",
       "       0.10616331, 0.11058391, 0.1305841 , 0.11924611, 0.11221127,\n",
       "       0.14567904, 0.14512865, 0.09592657, 0.11956511, 0.08323065,\n",
       "       0.13219729, 0.14435168, 0.14742942, 0.07028179, 0.14406743,\n",
       "       0.0917284 , 0.05783134, 0.11364253, 0.1335936 , 0.0724341 ,\n",
       "       0.09489487, 0.09261313, 0.13534261, 0.12829844, 0.15843373])"
      ]
     },
     "execution_count": 18,
     "metadata": {},
     "output_type": "execute_result"
    }
   ],
   "source": [
    "nu = get_nu_star(basket_options_function, params_basket)\n",
    "nu"
   ]
  },
  {
   "cell_type": "markdown",
   "metadata": {},
   "source": [
    "## Test fonction"
   ]
  },
  {
   "cell_type": "code",
   "execution_count": null,
   "metadata": {},
   "outputs": [],
   "source": []
  }
 ],
 "metadata": {
  "kernelspec": {
   "display_name": "Python 3",
   "language": "python",
   "name": "python3"
  },
  "language_info": {
   "codemirror_mode": {
    "name": "ipython",
    "version": 3
   },
   "file_extension": ".py",
   "mimetype": "text/x-python",
   "name": "python",
   "nbconvert_exporter": "python",
   "pygments_lexer": "ipython3",
   "version": "3.10.0"
  }
 },
 "nbformat": 4,
 "nbformat_minor": 2
}
