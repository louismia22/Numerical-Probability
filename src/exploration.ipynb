{
 "cells": [
  {
   "cell_type": "code",
   "execution_count": 9,
   "metadata": {},
   "outputs": [],
   "source": [
    "from scipy.optimize import minimize\n",
    "import numpy as np"
   ]
  },
  {
   "cell_type": "code",
   "execution_count": 239,
   "metadata": {},
   "outputs": [],
   "source": [
    "def get_nu_star(xi, params):\n",
    "\n",
    "    def objective(nu):\n",
    "\n",
    "        if xi(nu, **params)>0:\n",
    "            return -(np.log(xi(nu, **params)) - 0.5*np.dot(nu.T, nu))\n",
    "        else:\n",
    "            return 1e80\n",
    "        \n",
    "    nu0 = np.zeros(params[\"d\"])\n",
    "\n",
    "    result = minimize(objective, nu0, method='SLSQP')\n",
    "\n",
    "    if result.success:\n",
    "        return result.x\n",
    "    else:\n",
    "        raise ValueError(\"L'optimisation n'a pas réussi à converger.\")"
   ]
  },
  {
   "cell_type": "code",
   "execution_count": 236,
   "metadata": {},
   "outputs": [],
   "source": [
    "r = 0.05\n",
    "T = 1\n",
    "s0 = 50\n",
    "sigma = 0.1\n",
    "K = 50\n",
    "\n",
    "B = 60"
   ]
  },
  {
   "cell_type": "code",
   "execution_count": 252,
   "metadata": {},
   "outputs": [],
   "source": [
    "def asian_function(y, S0, v, mu, maturity, strike, rate, d):\n",
    "\n",
    "    k = np.arange(1, d + 1)\n",
    "    y_cum = np.cumsum(y)\n",
    "    payoff = np.exp(-rate*maturity)*max(S0*np.sum(np.exp(mu*(k*T)/d + v*np.sqrt(T/d)*y_cum))/d - strike, 0)\n",
    "\n",
    "    return payoff"
   ]
  },
  {
   "cell_type": "code",
   "execution_count": 253,
   "metadata": {},
   "outputs": [],
   "source": [
    "d = 16\n",
    "T = 1\n",
    "r = 0.05\n",
    "\n",
    "S0 = 50\n",
    "K = 45\n",
    "v = 0.1\n",
    "\n",
    "params_asian = {\n",
    "    \"d\": d,\n",
    "    \"S0\": S0,\n",
    "    \"v\": v,\n",
    "    \"mu\": r-0.5*v**2,\n",
    "    \"maturity\": T,\n",
    "    \"strike\": K,\n",
    "    \"rate\": r\n",
    "}"
   ]
  },
  {
   "cell_type": "code",
   "execution_count": 254,
   "metadata": {},
   "outputs": [
    {
     "data": {
      "text/plain": [
       "array([0.41409413, 0.38929433, 0.36432277, 0.33918466, 0.31388597,\n",
       "       0.28843238, 0.26282949, 0.23708368, 0.21120092, 0.18518755,\n",
       "       0.15905014, 0.13279537, 0.10642987, 0.07996067, 0.05339449,\n",
       "       0.02673845])"
      ]
     },
     "execution_count": 254,
     "metadata": {},
     "output_type": "execute_result"
    }
   ],
   "source": [
    "nu = get_nu_star(asian_function, params_asian)/0.42\n",
    "nu"
   ]
  },
  {
   "cell_type": "code",
   "execution_count": 267,
   "metadata": {},
   "outputs": [],
   "source": [
    "def knock_out_function(y, S0, v, mu, maturity, strike, rate, barrier, d):\n",
    "\n",
    "    d = len(y)\n",
    "    k = np.arange(1, d + 1)\n",
    "    y_cum = np.cumsum(y)\n",
    "\n",
    "    s = S0*np.exp(mu*maturity + v*np.sqrt(maturity/d)*y_cum[-1])\n",
    "    payoff = np.exp(-rate*maturity)*max(S0*np.sum(np.exp(mu*(k*maturity)/d + v*np.sqrt(maturity/d)*y_cum))/d - strike, 0)*(1 if s <= barrier else 0)\n",
    "\n",
    "    return payoff"
   ]
  },
  {
   "cell_type": "code",
   "execution_count": 270,
   "metadata": {},
   "outputs": [],
   "source": [
    "d = 16\n",
    "T = 1\n",
    "r = 0.05\n",
    "\n",
    "S0 = 50\n",
    "K = 50\n",
    "B = 60\n",
    "v = 0.1\n",
    "\n",
    "params_barrier = {\n",
    "    \"d\": d,\n",
    "    \"S0\": S0,\n",
    "    \"v\": v,\n",
    "    \"mu\": r-0.5*v**2,\n",
    "    \"maturity\": T,\n",
    "    \"strike\": K,\n",
    "    \"rate\": r, \n",
    "    \"barrier\": B\n",
    "}"
   ]
  },
  {
   "cell_type": "code",
   "execution_count": 272,
   "metadata": {},
   "outputs": [
    {
     "data": {
      "text/plain": [
       "array([0.40948557, 0.38548036, 0.36121145, 0.33668891, 0.31192197,\n",
       "       0.2869225 , 0.26170077, 0.23626848, 0.21063748, 0.1848205 ,\n",
       "       0.15882961, 0.13267859, 0.10638069, 0.07994989, 0.05339963,\n",
       "       0.0267447 ])"
      ]
     },
     "execution_count": 272,
     "metadata": {},
     "output_type": "execute_result"
    }
   ],
   "source": [
    "nu = get_nu_star(knock_out_function, params_barrier)/0.84\n",
    "nu"
   ]
  },
  {
   "cell_type": "code",
   "execution_count": 273,
   "metadata": {},
   "outputs": [],
   "source": [
    "def basket_options_function(y, S0, v, mu, sq_correl, maturity, strike, alpha, rate, d):\n",
    "\n",
    "    y_tilde = np.dot(sq_correl, y)\n",
    "    payoff = np.exp(-rate*maturity)*max(np.sum(alpha*S0*np.exp(mu*T + v*np.sqrt(maturity)*y_tilde)) - strike, 0)\n",
    "\n",
    "    return payoff"
   ]
  },
  {
   "cell_type": "code",
   "execution_count": 274,
   "metadata": {},
   "outputs": [],
   "source": [
    "d = 40\n",
    "T = 1\n",
    "r = 0.05\n",
    "\n",
    "S0 = np.random.uniform(20, 80, d)\n",
    "K = 45\n",
    "alpha = np.ones(d)/d\n",
    "\n",
    "c = 0.1\n",
    "sigma = c*np.ones((d, d)) + (1-c)*np.eye(d)\n",
    "v = np.linspace(0.1, 0.4, d)\n",
    "\n",
    "params_basket = {\n",
    "    \"d\": d,\n",
    "    \"S0\": S0,\n",
    "    \"v\": v,\n",
    "    \"mu\": r-0.5*v**2,\n",
    "    \"sq_correl\": np.linalg.cholesky(sigma),\n",
    "    \"maturity\": T,\n",
    "    \"strike\": K,\n",
    "    \"alpha\": alpha,\n",
    "    \"rate\": r\n",
    "}"
   ]
  },
  {
   "cell_type": "code",
   "execution_count": 275,
   "metadata": {},
   "outputs": [
    {
     "data": {
      "text/plain": [
       "array([0.51348833, 0.44394845, 0.43429594, 0.35139928, 0.38121441,\n",
       "       0.30647044, 0.34857792, 0.30098923, 0.29458778, 0.27000911,\n",
       "       0.22611321, 0.22334599, 0.23443787, 0.25623879, 0.21426465,\n",
       "       0.17079791, 0.17711434, 0.20669697, 0.16863798, 0.20787631,\n",
       "       0.21194631, 0.24810199, 0.19194896, 0.16402126, 0.12493332,\n",
       "       0.27173567, 0.25517783, 0.10795869, 0.16161881, 0.18370867,\n",
       "       0.15716313, 0.12740188, 0.11707627, 0.19528741, 0.26184598,\n",
       "       0.27994829, 0.23961907, 0.08303473, 0.16673978, 0.20455805])"
      ]
     },
     "execution_count": 275,
     "metadata": {},
     "output_type": "execute_result"
    }
   ],
   "source": [
    "nu = get_nu_star(basket_options_function, params_basket)/0.41\n",
    "nu"
   ]
  }
 ],
 "metadata": {
  "kernelspec": {
   "display_name": "Python 3",
   "language": "python",
   "name": "python3"
  },
  "language_info": {
   "codemirror_mode": {
    "name": "ipython",
    "version": 3
   },
   "file_extension": ".py",
   "mimetype": "text/x-python",
   "name": "python",
   "nbconvert_exporter": "python",
   "pygments_lexer": "ipython3",
   "version": "3.10.0"
  }
 },
 "nbformat": 4,
 "nbformat_minor": 2
}
